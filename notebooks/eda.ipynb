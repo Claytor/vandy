{
 "cells": [
  {
   "cell_type": "markdown",
   "metadata": {},
   "source": [
    "# Student Behaviour Analysis for the Career Advancement and Engagement Department"
   ]
  },
  {
   "cell_type": "code",
   "execution_count": 1,
   "metadata": {},
   "outputs": [],
   "source": [
    "# Libraries\n",
    "import pandas as pd\n",
    "import numpy as np\n",
    "import plotly as plt\n",
    "import plotly.express as px\n",
    "import matplotlib.pyplot as plt\n",
    "from joypy import joyplot\n",
    "import os\n",
    "\n",
    "pd.set_option('display.max_colwidth', None)"
   ]
  },
  {
   "cell_type": "code",
   "execution_count": 2,
   "metadata": {},
   "outputs": [],
   "source": [
    "# Read in data using pandas\n",
    "df = pd.read_excel(open('../data/assessment.xlsx', \"rb\"), #There was 'utf-8' codec start byte error.  Opening in binary mode \n",
    "                   sheet_name='Student_Behaviour') #note british spelling of sheet\n",
    "                   "
   ]
  },
  {
   "cell_type": "markdown",
   "metadata": {},
   "source": [
    "## Cleaning Data"
   ]
  },
  {
   "cell_type": "markdown",
   "metadata": {},
   "source": [
    "### Making column names consistent and concise."
   ]
  },
  {
   "cell_type": "code",
   "execution_count": 3,
   "metadata": {},
   "outputs": [],
   "source": [
    "# Column Renaming Dictionaries\n",
    "dictionary = {\n",
    "    'Certification Course' : \"cert_course\",\n",
    "    'Gender' : 'gender',\n",
    "    'Department': 'department',\n",
    "    '10th Mark': 'mark_10th',\n",
    "    '12th Mark': 'mark_12th',\n",
    "    'college mark': 'mark_college',\n",
    "    'hobbies': 'hobbies',\n",
    "    'daily studing time' : 'study_hr_day',\n",
    "    'prefer to study in': 'study_window',\n",
    "    'salary expectation': 'salary_expected',\n",
    "    'Do you like your degree?' : 'degree_happy',\n",
    "    'willingness to pursue a career based on their degree  ' : 'career_in_degree',\n",
    "    'social medai & video' : 'social_video_hr_day',\n",
    "    'Travelling Time ' : 'travel_hr_day',\n",
    "    'Stress Level ' : 'stress_status',\n",
    "    'Financial Status' : 'financial_status',\n",
    "    'part-time job' : 'job_pt'}\n",
    "df.rename(columns = dictionary,\n",
    "          inplace=True)"
   ]
  },
  {
   "cell_type": "markdown",
   "metadata": {},
   "source": [
    "### Ensuring Correct Data Types"
   ]
  },
  {
   "cell_type": "code",
   "execution_count": 4,
   "metadata": {},
   "outputs": [],
   "source": [
    "# Make job_pt non-bool\n",
    "df['job_pt'] = df['job_pt'].replace({True: 'Yes', False: 'No'})\n",
    "\n",
    "# Categorical conversions list\n",
    "cat_convert = [\n",
    "        'gender',\n",
    "        'department',\n",
    "        'hobbies',\n",
    "        'study_hr_day',\n",
    "        'study_window',\n",
    "        'social_video_hr_day',\n",
    "        'travel_hr_day',\n",
    "        'stress_status',\n",
    "        'financial_status',\n",
    "        'job_pt',\n",
    "        'cert_course',\n",
    "        'degree_happy'\n",
    "        ]\n",
    "# Applying conversion lists\n",
    "df[cat_convert] = df[cat_convert].astype('category')"
   ]
  },
  {
   "cell_type": "markdown",
   "metadata": {},
   "source": [
    "### Ensuring Correct Labeling of Categorical Data"
   ]
  },
  {
   "cell_type": "markdown",
   "metadata": {},
   "source": [
    "**Inconsistencies in categorical labels**\n",
    "- **dept** - `B.com Accounting & Finance ` and `B.com Accounting and Finance ` \n",
    "    - standardized and removed trailing spaces\n",
    "- **hobbies** \n",
    "    - fixed caseing of labels\n",
    "- **`*`_daily** \n",
    "    - time buckets addressed to ensure uniformity\n",
    "    - Relabeled all categories in terms of hours\n",
    "    - **social_video_hr_day** - Combined `0 Minute` and `1 - 30 Minute` buckets into new `0 to 0.5` to maintain consistency across time buckets\n",
    "        - 5 students reported 0 minutes\n",
    "        - 47 students reported 1-30 minutes\n",
    "- **`*_status`** - Fixed capitalization."
   ]
  },
  {
   "cell_type": "markdown",
   "metadata": {},
   "source": [
    "#### Label Map dictionaries"
   ]
  },
  {
   "cell_type": "code",
   "execution_count": 5,
   "metadata": {},
   "outputs": [],
   "source": [
    "# Manual replacements\n",
    "\n",
    "# Fixing department labels\n"
   ]
  },
  {
   "cell_type": "code",
   "execution_count": 6,
   "metadata": {},
   "outputs": [],
   "source": [
    "# Label Mapping dictionaries\n",
    "department_mapping= {\n",
    "    'B.com Accounting and Finance ': 'B.com Accounting & Finance',\n",
    "    'B.com Accounting & Finance ': 'B.com Accounting & Finance'\n",
    "}\n",
    "\n",
    "sentiment_mapping = {\n",
    "    'awful': 'Awful',\n",
    "    'bad' : 'Bad',\n",
    "    'good': 'Good',\n",
    "    'fabulous': 'Fabulous'\n",
    "}\n",
    "\n",
    "study_hr_day_mapping = {\n",
    "    '0 - 30 minute': '0 to 0.5',\n",
    "    '30 - 60 minute': '0.5 to 1',\n",
    "    '1 - 2 Hour': '1 to 2',\n",
    "    '2 - 3 hour': '2 to 3',\n",
    "    '3 - 4 hour': '3 to 4',\n",
    "    'More Than 4 hour': '4+'\n",
    "}\n",
    "\n",
    "social_video_hr_day_mapping = {\n",
    "    '0 Minute': '0 to 0.5',\n",
    "    '1 - 30 Minute': '0 to 0.5',\n",
    "    '30 - 60 Minute': '0.5 to 1',\n",
    "    '1 - 1.30 hour': '1 to 1.5',\n",
    "    '1.30 - 2 hour': '1.5 to 2',\n",
    "    'More than 2 hour': '2+'\n",
    "}\n",
    "\n",
    "travel_hr_day_mapping = {\n",
    "    '0 - 30 minutes': '0 to 0.5',\n",
    "    '30 - 60 minutes': '0.5 to 1',\n",
    "    '1 - 1.30 hour': '1 to 1.5',\n",
    "    '1.30 - 2 hour': '1.5 to 2',\n",
    "    '2 - 2.30 hour': '2 to 2.5',\n",
    "    '2.30 - 3 hour': '2.5 to 3',\n",
    "    'more than 3 hour': '3+'\n",
    "}\n",
    "\n",
    "df['department'] = df['department'].replace(department_mapping)\n",
    "df['stress_status'] = df['stress_status'].replace(sentiment_mapping)\n",
    "df['financial_status'] = df['financial_status'].replace(sentiment_mapping)\n",
    "df['study_hr_day'] = df['study_hr_day'].replace(study_hr_day_mapping)\n",
    "df['social_video_hr_day'] = df['social_video_hr_day'].replace(social_video_hr_day_mapping)\n",
    "df['travel_hr_day'] = df['travel_hr_day'].replace(travel_hr_day_mapping)"
   ]
  },
  {
   "cell_type": "markdown",
   "metadata": {},
   "source": [
    "#### Ordering Categories"
   ]
  },
  {
   "cell_type": "code",
   "execution_count": 7,
   "metadata": {},
   "outputs": [],
   "source": [
    "# Setting Categorical Order\n",
    "# Creating ordered categories\n",
    "ordered_cats = {\n",
    "    'stress_status': list(sentiment_mapping.values()),\n",
    "    'financial_status': list(sentiment_mapping.values()),\n",
    "    'study_hr_day': list(study_hr_day_mapping.values()),\n",
    "    # Hardcoded due to duplicate values in dictionary\n",
    "    'social_video_hr_day': ['0 to 0.5', '0.5 to 1', '1 to 1.5', '1.5 to 2', '2+'],\n",
    "    'travel_hr_day': list(travel_hr_day_mapping.values())\n",
    "}\n",
    "\n",
    "# Applying ordered categories\n",
    "for col, cats in ordered_cats.items():\n",
    "    df[col] = df[col].astype(pd.CategoricalDtype(categories=cats, ordered=True))\n",
    " "
   ]
  },
  {
   "cell_type": "code",
   "execution_count": 8,
   "metadata": {},
   "outputs": [
    {
     "data": {
      "text/html": [
       "<div>\n",
       "<style scoped>\n",
       "    .dataframe tbody tr th:only-of-type {\n",
       "        vertical-align: middle;\n",
       "    }\n",
       "\n",
       "    .dataframe tbody tr th {\n",
       "        vertical-align: top;\n",
       "    }\n",
       "\n",
       "    .dataframe thead th {\n",
       "        text-align: right;\n",
       "    }\n",
       "</style>\n",
       "<table border=\"1\" class=\"dataframe\">\n",
       "  <thead>\n",
       "    <tr style=\"text-align: right;\">\n",
       "      <th></th>\n",
       "      <th>Category</th>\n",
       "      <th>Labels</th>\n",
       "    </tr>\n",
       "  </thead>\n",
       "  <tbody>\n",
       "    <tr>\n",
       "      <th>0</th>\n",
       "      <td>cert_course</td>\n",
       "      <td>[No, Yes]</td>\n",
       "    </tr>\n",
       "    <tr>\n",
       "      <th>1</th>\n",
       "      <td>gender</td>\n",
       "      <td>[Male, Female]</td>\n",
       "    </tr>\n",
       "    <tr>\n",
       "      <th>2</th>\n",
       "      <td>department</td>\n",
       "      <td>[BCA, B.com ISM, Commerce, B.com Accounting &amp; Finance]</td>\n",
       "    </tr>\n",
       "    <tr>\n",
       "      <th>3</th>\n",
       "      <td>hobbies</td>\n",
       "      <td>[Sports, Video game, Video Games, Cinema, Reading books]</td>\n",
       "    </tr>\n",
       "    <tr>\n",
       "      <th>4</th>\n",
       "      <td>study_hr_day</td>\n",
       "      <td>[1 to 2, 0 to 0.5, 4+, 3 to 4, 0.5 to 1, 2 to 3]</td>\n",
       "    </tr>\n",
       "    <tr>\n",
       "      <th>5</th>\n",
       "      <td>study_window</td>\n",
       "      <td>[Morning, Anytime, Night]</td>\n",
       "    </tr>\n",
       "    <tr>\n",
       "      <th>6</th>\n",
       "      <td>degree_happy</td>\n",
       "      <td>[No, Yes]</td>\n",
       "    </tr>\n",
       "    <tr>\n",
       "      <th>7</th>\n",
       "      <td>social_video_hr_day</td>\n",
       "      <td>[1 to 1.5, 1.5 to 2, 0 to 0.5, 0.5 to 1, 2+]</td>\n",
       "    </tr>\n",
       "    <tr>\n",
       "      <th>8</th>\n",
       "      <td>travel_hr_day</td>\n",
       "      <td>[0.5 to 1, 0 to 0.5, 3+, 1 to 1.5, 2 to 2.5, 1.5 to 2, 2.5 to 3]</td>\n",
       "    </tr>\n",
       "    <tr>\n",
       "      <th>9</th>\n",
       "      <td>stress_status</td>\n",
       "      <td>[Good, Awful, Bad, Fabulous]</td>\n",
       "    </tr>\n",
       "    <tr>\n",
       "      <th>10</th>\n",
       "      <td>financial_status</td>\n",
       "      <td>[Good, Bad, Fabulous, Awful]</td>\n",
       "    </tr>\n",
       "    <tr>\n",
       "      <th>11</th>\n",
       "      <td>job_pt</td>\n",
       "      <td>[No, Yes]</td>\n",
       "    </tr>\n",
       "  </tbody>\n",
       "</table>\n",
       "</div>"
      ],
      "text/plain": [
       "               Category  \\\n",
       "0           cert_course   \n",
       "1                gender   \n",
       "2            department   \n",
       "3               hobbies   \n",
       "4          study_hr_day   \n",
       "5          study_window   \n",
       "6          degree_happy   \n",
       "7   social_video_hr_day   \n",
       "8         travel_hr_day   \n",
       "9         stress_status   \n",
       "10     financial_status   \n",
       "11               job_pt   \n",
       "\n",
       "                                                              Labels  \n",
       "0                                                          [No, Yes]  \n",
       "1                                                     [Male, Female]  \n",
       "2             [BCA, B.com ISM, Commerce, B.com Accounting & Finance]  \n",
       "3           [Sports, Video game, Video Games, Cinema, Reading books]  \n",
       "4                   [1 to 2, 0 to 0.5, 4+, 3 to 4, 0.5 to 1, 2 to 3]  \n",
       "5                                          [Morning, Anytime, Night]  \n",
       "6                                                          [No, Yes]  \n",
       "7                       [1 to 1.5, 1.5 to 2, 0 to 0.5, 0.5 to 1, 2+]  \n",
       "8   [0.5 to 1, 0 to 0.5, 3+, 1 to 1.5, 2 to 2.5, 1.5 to 2, 2.5 to 3]  \n",
       "9                                       [Good, Awful, Bad, Fabulous]  \n",
       "10                                      [Good, Bad, Fabulous, Awful]  \n",
       "11                                                         [No, Yes]  "
      ]
     },
     "execution_count": 8,
     "metadata": {},
     "output_type": "execute_result"
    }
   ],
   "source": [
    "# Categorical Labels\n",
    "unique_values_df = pd.DataFrame([(col, df[col].unique().tolist()) for col in df.select_dtypes('category').columns],\n",
    "                                columns=['Category', 'Labels'])\n",
    "unique_values_df"
   ]
  },
  {
   "cell_type": "code",
   "execution_count": 9,
   "metadata": {},
   "outputs": [
    {
     "data": {
      "text/html": [
       "<div>\n",
       "<style scoped>\n",
       "    .dataframe tbody tr th:only-of-type {\n",
       "        vertical-align: middle;\n",
       "    }\n",
       "\n",
       "    .dataframe tbody tr th {\n",
       "        vertical-align: top;\n",
       "    }\n",
       "\n",
       "    .dataframe thead th {\n",
       "        text-align: right;\n",
       "    }\n",
       "</style>\n",
       "<table border=\"1\" class=\"dataframe\">\n",
       "  <thead>\n",
       "    <tr style=\"text-align: right;\">\n",
       "      <th></th>\n",
       "      <th>data_type</th>\n",
       "      <th>total_values</th>\n",
       "      <th>unique_values</th>\n",
       "      <th>missing_values</th>\n",
       "    </tr>\n",
       "  </thead>\n",
       "  <tbody>\n",
       "    <tr>\n",
       "      <th>cert_course</th>\n",
       "      <td>category</td>\n",
       "      <td>235</td>\n",
       "      <td>2</td>\n",
       "      <td>0</td>\n",
       "    </tr>\n",
       "    <tr>\n",
       "      <th>gender</th>\n",
       "      <td>category</td>\n",
       "      <td>235</td>\n",
       "      <td>2</td>\n",
       "      <td>0</td>\n",
       "    </tr>\n",
       "    <tr>\n",
       "      <th>department</th>\n",
       "      <td>category</td>\n",
       "      <td>235</td>\n",
       "      <td>4</td>\n",
       "      <td>0</td>\n",
       "    </tr>\n",
       "    <tr>\n",
       "      <th>mark_10th</th>\n",
       "      <td>float64</td>\n",
       "      <td>235</td>\n",
       "      <td>68</td>\n",
       "      <td>0</td>\n",
       "    </tr>\n",
       "    <tr>\n",
       "      <th>mark_12th</th>\n",
       "      <td>float64</td>\n",
       "      <td>235</td>\n",
       "      <td>67</td>\n",
       "      <td>0</td>\n",
       "    </tr>\n",
       "    <tr>\n",
       "      <th>mark_college</th>\n",
       "      <td>float64</td>\n",
       "      <td>235</td>\n",
       "      <td>39</td>\n",
       "      <td>0</td>\n",
       "    </tr>\n",
       "    <tr>\n",
       "      <th>hobbies</th>\n",
       "      <td>category</td>\n",
       "      <td>235</td>\n",
       "      <td>5</td>\n",
       "      <td>0</td>\n",
       "    </tr>\n",
       "    <tr>\n",
       "      <th>study_hr_day</th>\n",
       "      <td>category</td>\n",
       "      <td>235</td>\n",
       "      <td>6</td>\n",
       "      <td>0</td>\n",
       "    </tr>\n",
       "    <tr>\n",
       "      <th>study_window</th>\n",
       "      <td>category</td>\n",
       "      <td>235</td>\n",
       "      <td>3</td>\n",
       "      <td>0</td>\n",
       "    </tr>\n",
       "    <tr>\n",
       "      <th>salary_expected</th>\n",
       "      <td>int64</td>\n",
       "      <td>235</td>\n",
       "      <td>84</td>\n",
       "      <td>0</td>\n",
       "    </tr>\n",
       "    <tr>\n",
       "      <th>degree_happy</th>\n",
       "      <td>category</td>\n",
       "      <td>235</td>\n",
       "      <td>2</td>\n",
       "      <td>0</td>\n",
       "    </tr>\n",
       "    <tr>\n",
       "      <th>career_in_degree</th>\n",
       "      <td>float64</td>\n",
       "      <td>235</td>\n",
       "      <td>5</td>\n",
       "      <td>0</td>\n",
       "    </tr>\n",
       "    <tr>\n",
       "      <th>social_video_hr_day</th>\n",
       "      <td>category</td>\n",
       "      <td>235</td>\n",
       "      <td>5</td>\n",
       "      <td>0</td>\n",
       "    </tr>\n",
       "    <tr>\n",
       "      <th>travel_hr_day</th>\n",
       "      <td>category</td>\n",
       "      <td>235</td>\n",
       "      <td>7</td>\n",
       "      <td>0</td>\n",
       "    </tr>\n",
       "    <tr>\n",
       "      <th>stress_status</th>\n",
       "      <td>category</td>\n",
       "      <td>235</td>\n",
       "      <td>4</td>\n",
       "      <td>0</td>\n",
       "    </tr>\n",
       "    <tr>\n",
       "      <th>financial_status</th>\n",
       "      <td>category</td>\n",
       "      <td>235</td>\n",
       "      <td>4</td>\n",
       "      <td>0</td>\n",
       "    </tr>\n",
       "    <tr>\n",
       "      <th>job_pt</th>\n",
       "      <td>category</td>\n",
       "      <td>235</td>\n",
       "      <td>2</td>\n",
       "      <td>0</td>\n",
       "    </tr>\n",
       "  </tbody>\n",
       "</table>\n",
       "</div>"
      ],
      "text/plain": [
       "                    data_type  total_values  unique_values  missing_values\n",
       "cert_course          category           235              2               0\n",
       "gender               category           235              2               0\n",
       "department           category           235              4               0\n",
       "mark_10th             float64           235             68               0\n",
       "mark_12th             float64           235             67               0\n",
       "mark_college          float64           235             39               0\n",
       "hobbies              category           235              5               0\n",
       "study_hr_day         category           235              6               0\n",
       "study_window         category           235              3               0\n",
       "salary_expected         int64           235             84               0\n",
       "degree_happy         category           235              2               0\n",
       "career_in_degree      float64           235              5               0\n",
       "social_video_hr_day  category           235              5               0\n",
       "travel_hr_day        category           235              7               0\n",
       "stress_status        category           235              4               0\n",
       "financial_status     category           235              4               0\n",
       "job_pt               category           235              2               0"
      ]
     },
     "execution_count": 9,
     "metadata": {},
     "output_type": "execute_result"
    }
   ],
   "source": [
    "# checking data types and missing values\n",
    "df_info = pd.DataFrame({\n",
    "    \"data_type\": df.dtypes,\n",
    "    \"total_values\": df.count(),\n",
    "    \"unique_values\": df.nunique(),\n",
    "    \"missing_values\": df.isnull().sum()\n",
    "    })\n",
    "df_info"
   ]
  },
  {
   "cell_type": "code",
   "execution_count": 10,
   "metadata": {},
   "outputs": [
    {
     "name": "stdout",
     "output_type": "stream",
     "text": [
      "<class 'pandas.core.frame.DataFrame'>\n",
      "RangeIndex: 235 entries, 0 to 234\n",
      "Data columns (total 17 columns):\n",
      " #   Column               Non-Null Count  Dtype   \n",
      "---  ------               --------------  -----   \n",
      " 0   cert_course          235 non-null    category\n",
      " 1   gender               235 non-null    category\n",
      " 2   department           235 non-null    category\n",
      " 3   mark_10th            235 non-null    float64 \n",
      " 4   mark_12th            235 non-null    float64 \n",
      " 5   mark_college         235 non-null    float64 \n",
      " 6   hobbies              235 non-null    category\n",
      " 7   study_hr_day         235 non-null    category\n",
      " 8   study_window         235 non-null    category\n",
      " 9   salary_expected      235 non-null    int64   \n",
      " 10  degree_happy         235 non-null    category\n",
      " 11  career_in_degree     235 non-null    float64 \n",
      " 12  social_video_hr_day  235 non-null    category\n",
      " 13  travel_hr_day        235 non-null    category\n",
      " 14  stress_status        235 non-null    category\n",
      " 15  financial_status     235 non-null    category\n",
      " 16  job_pt               235 non-null    category\n",
      "dtypes: category(12), float64(4), int64(1)\n",
      "memory usage: 14.2 KB\n"
     ]
    }
   ],
   "source": [
    "df.info()"
   ]
  },
  {
   "cell_type": "markdown",
   "metadata": {},
   "source": [
    "# Code Questions"
   ]
  },
  {
   "cell_type": "markdown",
   "metadata": {},
   "source": [
    "_________________\n",
    "## 1) Salary Expectations:\n",
    "> Show Median and Average Salary expectations by department\n",
    "__________"
   ]
  },
  {
   "cell_type": "markdown",
   "metadata": {},
   "source": [
    "**Salary Notes**\n",
    "- Mean and Median salary expectations seem to be good indicators of central tendency for all departments.  Visualizing both for all departments produces box charts that are hard to distinguish.  **However, there is an extreme outlier in BCA that needs to be handled.**\n",
    "$$ Z = \\frac{{x - \\mu}}{{\\sigma}} = \\frac{{130000.0 - 60283.333333}}{{6708.228588}} = 10.39271 $$"
   ]
  },
  {
   "cell_type": "code",
   "execution_count": 11,
   "metadata": {},
   "outputs": [
    {
     "data": {
      "text/html": [
       "<div>\n",
       "<style scoped>\n",
       "    .dataframe tbody tr th:only-of-type {\n",
       "        vertical-align: middle;\n",
       "    }\n",
       "\n",
       "    .dataframe tbody tr th {\n",
       "        vertical-align: top;\n",
       "    }\n",
       "\n",
       "    .dataframe thead th {\n",
       "        text-align: right;\n",
       "    }\n",
       "</style>\n",
       "<table border=\"1\" class=\"dataframe\">\n",
       "  <thead>\n",
       "    <tr style=\"text-align: right;\">\n",
       "      <th></th>\n",
       "      <th>count</th>\n",
       "      <th>mean</th>\n",
       "      <th>std</th>\n",
       "      <th>min</th>\n",
       "      <th>25%</th>\n",
       "      <th>50%</th>\n",
       "      <th>75%</th>\n",
       "      <th>max</th>\n",
       "    </tr>\n",
       "    <tr>\n",
       "      <th>department</th>\n",
       "      <th></th>\n",
       "      <th></th>\n",
       "      <th></th>\n",
       "      <th></th>\n",
       "      <th></th>\n",
       "      <th></th>\n",
       "      <th></th>\n",
       "      <th></th>\n",
       "    </tr>\n",
       "  </thead>\n",
       "  <tbody>\n",
       "    <tr>\n",
       "      <th>B.com Accounting &amp; Finance</th>\n",
       "      <td>15.0</td>\n",
       "      <td>60293.333333</td>\n",
       "      <td>2877.614753</td>\n",
       "      <td>55600.0</td>\n",
       "      <td>57950.0</td>\n",
       "      <td>60500.0</td>\n",
       "      <td>62500.0</td>\n",
       "      <td>64500.0</td>\n",
       "    </tr>\n",
       "    <tr>\n",
       "      <th>B.com ISM</th>\n",
       "      <td>28.0</td>\n",
       "      <td>59835.714286</td>\n",
       "      <td>2668.362556</td>\n",
       "      <td>55100.0</td>\n",
       "      <td>57975.0</td>\n",
       "      <td>59700.0</td>\n",
       "      <td>62075.0</td>\n",
       "      <td>64500.0</td>\n",
       "    </tr>\n",
       "    <tr>\n",
       "      <th>BCA</th>\n",
       "      <td>132.0</td>\n",
       "      <td>60283.333333</td>\n",
       "      <td>6708.228588</td>\n",
       "      <td>55100.0</td>\n",
       "      <td>57450.0</td>\n",
       "      <td>59750.0</td>\n",
       "      <td>62225.0</td>\n",
       "      <td>130000.0</td>\n",
       "    </tr>\n",
       "    <tr>\n",
       "      <th>Commerce</th>\n",
       "      <td>60.0</td>\n",
       "      <td>59863.333333</td>\n",
       "      <td>2399.997646</td>\n",
       "      <td>55500.0</td>\n",
       "      <td>57700.0</td>\n",
       "      <td>59650.0</td>\n",
       "      <td>61325.0</td>\n",
       "      <td>64300.0</td>\n",
       "    </tr>\n",
       "  </tbody>\n",
       "</table>\n",
       "</div>"
      ],
      "text/plain": [
       "                            count          mean          std      min  \\\n",
       "department                                                              \n",
       "B.com Accounting & Finance   15.0  60293.333333  2877.614753  55600.0   \n",
       "B.com ISM                    28.0  59835.714286  2668.362556  55100.0   \n",
       "BCA                         132.0  60283.333333  6708.228588  55100.0   \n",
       "Commerce                     60.0  59863.333333  2399.997646  55500.0   \n",
       "\n",
       "                                25%      50%      75%       max  \n",
       "department                                                       \n",
       "B.com Accounting & Finance  57950.0  60500.0  62500.0   64500.0  \n",
       "B.com ISM                   57975.0  59700.0  62075.0   64500.0  \n",
       "BCA                         57450.0  59750.0  62225.0  130000.0  \n",
       "Commerce                    57700.0  59650.0  61325.0   64300.0  "
      ]
     },
     "execution_count": 11,
     "metadata": {},
     "output_type": "execute_result"
    }
   ],
   "source": [
    "# Salary Expectations Descriptives\n",
    "df.groupby('department')['salary_expected'].describe()"
   ]
  },
  {
   "cell_type": "code",
   "execution_count": 12,
   "metadata": {},
   "outputs": [
    {
     "data": {
      "text/plain": [
       "<Figure size 640x480 with 0 Axes>"
      ]
     },
     "metadata": {},
     "output_type": "display_data"
    },
    {
     "data": {
      "image/png": "[encoded data removed]",
      "text/plain": [
       "<Figure size 1200x800 with 5 Axes>"
      ]
     },
     "metadata": {},
     "output_type": "display_data"
    }
   ],
   "source": [
    "# Salary Ridgeline\n",
    "plt.figure()\n",
    "joyplot(\n",
    "    data=df[['salary_expected', 'department']],\n",
    "    by='department',\n",
    "    figsize=(12, 8)\n",
    ")\n",
    "plt.title('Ridgeline Plot of Salary Expectations by Department', fontsize=20)\n",
    "plt.show()"
   ]
  },
  {
   "cell_type": "code",
   "execution_count": 20,
   "metadata": {},
   "outputs": [],
   "source": [
    "# JUST FIX THE AXIS RANGE SPECIFICALLY FOR Y- DONT SUPPRESS\n",
    "# Add overall mean as fixed line.  control for extreme outlier in calculation"
   ]
  },
  {
   "cell_type": "code",
   "execution_count": 41,
   "metadata": {},
   "outputs": [
    {
     "data": {
      "application/vnd.plotly.v1+json": {
       "config": {
        "plotlyServerURL": "https://plot.ly"
       },
       "data": [
        {
         "alignmentgroup": "True",
         "hovertemplate": "Department=%{x}<br>Salary Expected=%{y}<extra></extra>",
         "legendgroup": "",
         "marker": {
          "color": "#636efa"
         },
         "name": "",
         "notched": false,
         "offsetgroup": "",
         "orientation": "v",
         "showlegend": false,
         "type": "box",
         "x": [
          "BCA",
          "BCA",
          "B.com ISM",
          "BCA",
          "BCA",
          "B.com ISM",
          "B.com ISM",
          "BCA",
          "BCA",
          "BCA",
          "Commerce",
          "BCA",
          "BCA",
          "BCA",
          "B.com Accounting & Finance",
          "BCA",
          "BCA",
          "BCA",
          "Commerce",
          "Commerce",
          "B.com Accounting & Finance",
          "BCA",
          "Commerce",
          "BCA",
          "BCA",
          "BCA",
          "BCA",
          "BCA",
          "BCA",
          "Commerce",
          "BCA",
          "BCA",
          "Commerce",
          "BCA",
          "BCA",
          "BCA",
          "BCA",
          "BCA",
          "Commerce",
          "B.com Accounting & Finance",
          "Commerce",
          "BCA",
          "B.com Accounting & Finance",
          "BCA",
          "BCA",
          "B.com ISM",
          "BCA",
          "Commerce",
          "BCA",
          "Commerce",
          "BCA",
          "Commerce",
          "B.com ISM",
          "Commerce",
          "Commerce",
          "BCA",
          "BCA",
          "Commerce",
          "BCA",
          "BCA",
          "BCA",
          "BCA",
          "Commerce",
          "Commerce",
          "B.com ISM",
          "BCA",
          "B.com ISM",
          "BCA",
          "B.com ISM",
          "BCA",
          "BCA",
          "B.com ISM",
          "Commerce",
          "BCA",
          "BCA",
          "BCA",
          "BCA",
          "BCA",
          "Commerce",
          "B.com ISM",
          "BCA",
          "B.com ISM",
          "BCA",
          "BCA",
          "BCA",
          "Commerce",
          "B.com ISM",
          "BCA",
          "Commerce",
          "BCA",
          "BCA",
          "Commerce",
          "B.com ISM",
          "B.com Accounting & Finance",
          "BCA",
          "BCA",
          "BCA",
          "BCA",
          "B.com ISM",
          "Commerce",
          "Commerce",
          "Commerce",
          "Commerce",
          "Commerce",
          "BCA",
          "Commerce",
          "BCA",
          "BCA",
          "Commerce",
          "Commerce",
          "B.com Accounting & Finance",
          "Commerce",
          "BCA",
          "BCA",
          "BCA",
          "Commerce",
          "BCA",
          "BCA",
          "Commerce",
          "BCA",
          "BCA",
          "BCA",
          "BCA",
          "Commerce",
          "Commerce",
          "B.com Accounting & Finance",
          "BCA",
          "Commerce",
          "BCA",
          "B.com ISM",
          "BCA",
          "Commerce",
          "BCA",
          "BCA",
          "BCA",
          "BCA",
          "BCA",
          "B.com ISM",
          "B.com Accounting & Finance",
          "BCA",
          "BCA",
          "Commerce",
          "B.com ISM",
          "B.com ISM",
          "BCA",
          "Commerce",
          "Commerce",
          "BCA",
          "Commerce",
          "B.com Accounting & Finance",
          "Commerce",
          "BCA",
          "Commerce",
          "Commerce",
          "Commerce",
          "BCA",
          "Commerce",
          "BCA",
          "B.com ISM",
          "BCA",
          "Commerce",
          "Commerce",
          "BCA",
          "BCA",
          "BCA",
          "BCA",
          "BCA",
          "BCA",
          "Commerce",
          "BCA",
          "BCA",
          "BCA",
          "BCA",
          "B.com ISM",
          "B.com ISM",
          "BCA",
          "BCA",
          "Commerce",
          "B.com Accounting & Finance",
          "BCA",
          "B.com ISM",
          "Commerce",
          "B.com Accounting & Finance",
          "BCA",
          "BCA",
          "B.com ISM",
          "BCA",
          "BCA",
          "BCA",
          "B.com Accounting & Finance",
          "B.com Accounting & Finance",
          "Commerce",
          "BCA",
          "B.com ISM",
          "BCA",
          "BCA",
          "BCA",
          "BCA",
          "Commerce",
          "BCA",
          "B.com ISM",
          "BCA",
          "BCA",
          "Commerce",
          "B.com ISM",
          "BCA",
          "BCA",
          "Commerce",
          "BCA",
          "BCA",
          "B.com ISM",
          "BCA",
          "Commerce",
          "BCA",
          "BCA",
          "BCA",
          "BCA",
          "BCA",
          "BCA",
          "Commerce",
          "Commerce",
          "Commerce",
          "B.com Accounting & Finance",
          "BCA",
          "Commerce",
          "BCA",
          "BCA",
          "Commerce",
          "B.com ISM",
          "BCA",
          "BCA",
          "BCA",
          "B.com Accounting & Finance",
          "BCA",
          "BCA"
         ],
         "x0": " ",
         "xaxis": "x",
         "y": [
          55100,
          55100,
          55100,
          55100,
          55200,
          55300,
          55400,
          55400,
          55400,
          55500,
          55500,
          55500,
          55600,
          55600,
          55600,
          56000,
          56100,
          56100,
          56100,
          56100,
          56200,
          56200,
          56200,
          56300,
          56300,
          56300,
          56400,
          56400,
          56400,
          56500,
          56500,
          56500,
          56500,
          56500,
          56700,
          56800,
          56800,
          56800,
          56800,
          57000,
          57000,
          57000,
          57000,
          57100,
          57100,
          57100,
          57200,
          57200,
          57300,
          57300,
          57300,
          57300,
          57400,
          57400,
          57400,
          57500,
          57500,
          57500,
          57600,
          57600,
          57700,
          57700,
          57700,
          57700,
          57800,
          57800,
          57900,
          57900,
          58000,
          58000,
          58000,
          58100,
          58100,
          58100,
          58200,
          58200,
          58200,
          58400,
          58400,
          58500,
          58500,
          58500,
          58500,
          58500,
          58500,
          58500,
          58600,
          58600,
          58600,
          58800,
          58800,
          58800,
          58900,
          58900,
          59000,
          59100,
          59100,
          59200,
          59200,
          59300,
          59300,
          59300,
          59400,
          59400,
          59400,
          59400,
          59400,
          59500,
          59500,
          59500,
          59600,
          59600,
          59600,
          59700,
          59700,
          59700,
          59700,
          59800,
          59800,
          59800,
          59900,
          59900,
          60000,
          60000,
          60000,
          60000,
          60100,
          60100,
          60200,
          60200,
          60200,
          60200,
          60200,
          60200,
          60300,
          60300,
          60400,
          60400,
          60500,
          60500,
          60600,
          60600,
          60600,
          60700,
          60700,
          60700,
          60800,
          60900,
          60900,
          60900,
          61000,
          61200,
          61200,
          61200,
          61200,
          61300,
          61300,
          61400,
          61400,
          61400,
          61400,
          61400,
          61500,
          61500,
          61600,
          61600,
          61600,
          61700,
          61800,
          61800,
          61900,
          61900,
          61900,
          62000,
          62000,
          62100,
          62200,
          62200,
          62300,
          62300,
          62300,
          62300,
          62400,
          62400,
          62400,
          62500,
          62500,
          62500,
          62600,
          62600,
          62700,
          62700,
          62800,
          62800,
          62900,
          62900,
          62900,
          63000,
          63000,
          63100,
          63200,
          63200,
          63200,
          63200,
          63400,
          63400,
          63400,
          63500,
          63500,
          63500,
          63600,
          63600,
          63600,
          63600,
          63600,
          63600,
          63700,
          63900,
          63900,
          63900,
          64100,
          64200,
          64200,
          64200,
          64200,
          64300,
          64300,
          64300,
          64500,
          64500,
          64500,
          64500,
          64500,
          64500,
          130000
         ],
         "y0": " ",
         "yaxis": "y"
        }
       ],
       "layout": {
        "boxmode": "group",
        "legend": {
         "tracegroupgap": 0
        },
        "margin": {
         "b": 20,
         "l": 20,
         "r": 20,
         "t": 60
        },
        "paper_bgcolor": "rgba(0,0,0,0)",
        "plot_bgcolor": "rgba(0,0,0,0)",
        "shapes": [
         {
          "line": {
           "color": "red",
           "dash": "dash",
           "width": 1
          },
          "type": "line",
          "x0": -0.5,
          "x1": 4.5,
          "y0": 59824.78632478633,
          "y1": 59824.78632478633
         }
        ],
        "template": {
         "data": {
          "bar": [
           {
            "error_x": {
             "color": "#2a3f5f"
            },
            "error_y": {
             "color": "#2a3f5f"
            },
            "marker": {
             "line": {
              "color": "#E5ECF6",
              "width": 0.5
             },
             "pattern": {
              "fillmode": "overlay",
              "size": 10,
              "solidity": 0.2
             }
            },
            "type": "bar"
           }
          ],
          "barpolar": [
           {
            "marker": {
             "line": {
              "color": "#E5ECF6",
              "width": 0.5
             },
             "pattern": {
              "fillmode": "overlay",
              "size": 10,
              "solidity": 0.2
             }
            },
            "type": "barpolar"
           }
          ],
          "carpet": [
           {
            "aaxis": {
             "endlinecolor": "#2a3f5f",
             "gridcolor": "white",
             "linecolor": "white",
             "minorgridcolor": "white",
             "startlinecolor": "#2a3f5f"
            },
            "baxis": {
             "endlinecolor": "#2a3f5f",
             "gridcolor": "white",
             "linecolor": "white",
             "minorgridcolor": "white",
             "startlinecolor": "#2a3f5f"
            },
            "type": "carpet"
           }
          ],
          "choropleth": [
           {
            "colorbar": {
             "outlinewidth": 0,
             "ticks": ""
            },
            "type": "choropleth"
           }
          ],
          "contour": [
           {
            "colorbar": {
             "outlinewidth": 0,
             "ticks": ""
            },
            "colorscale": [
             [
              0,
              "#0d0887"
             ],
             [
              0.1111111111111111,
              "#46039f"
             ],
             [
              0.2222222222222222,
              "#7201a8"
             ],
             [
              0.3333333333333333,
              "#9c179e"
             ],
             [
              0.4444444444444444,
              "#bd3786"
             ],
             [
              0.5555555555555556,
              "#d8576b"
             ],
             [
              0.6666666666666666,
              "#ed7953"
             ],
             [
              0.7777777777777778,
              "#fb9f3a"
             ],
             [
              0.8888888888888888,
              "#fdca26"
             ],
             [
              1,
              "#f0f921"
             ]
            ],
            "type": "contour"
           }
          ],
          "contourcarpet": [
           {
            "colorbar": {
             "outlinewidth": 0,
             "ticks": ""
            },
            "type": "contourcarpet"
           }
          ],
          "heatmap": [
           {
            "colorbar": {
             "outlinewidth": 0,
             "ticks": ""
            },
            "colorscale": [
             [
              0,
              "#0d0887"
             ],
             [
              0.1111111111111111,
              "#46039f"
             ],
             [
              0.2222222222222222,
              "#7201a8"
             ],
             [
              0.3333333333333333,
              "#9c179e"
             ],
             [
              0.4444444444444444,
              "#bd3786"
             ],
             [
              0.5555555555555556,
              "#d8576b"
             ],
             [
              0.6666666666666666,
              "#ed7953"
             ],
             [
              0.7777777777777778,
              "#fb9f3a"
             ],
             [
              0.8888888888888888,
              "#fdca26"
             ],
             [
              1,
              "#f0f921"
             ]
            ],
            "type": "heatmap"
           }
          ],
          "heatmapgl": [
           {
            "colorbar": {
             "outlinewidth": 0,
             "ticks": ""
            },
            "colorscale": [
             [
              0,
              "#0d0887"
             ],
             [
              0.1111111111111111,
              "#46039f"
             ],
             [
              0.2222222222222222,
              "#7201a8"
             ],
             [
              0.3333333333333333,
              "#9c179e"
             ],
             [
              0.4444444444444444,
              "#bd3786"
             ],
             [
              0.5555555555555556,
              "#d8576b"
             ],
             [
              0.6666666666666666,
              "#ed7953"
             ],
             [
              0.7777777777777778,
              "#fb9f3a"
             ],
             [
              0.8888888888888888,
              "#fdca26"
             ],
             [
              1,
              "#f0f921"
             ]
            ],
            "type": "heatmapgl"
           }
          ],
          "histogram": [
           {
            "marker": {
             "pattern": {
              "fillmode": "overlay",
              "size": 10,
              "solidity": 0.2
             }
            },
            "type": "histogram"
           }
          ],
          "histogram2d": [
           {
            "colorbar": {
             "outlinewidth": 0,
             "ticks": ""
            },
            "colorscale": [
             [
              0,
              "#0d0887"
             ],
             [
              0.1111111111111111,
              "#46039f"
             ],
             [
              0.2222222222222222,
              "#7201a8"
             ],
             [
              0.3333333333333333,
              "#9c179e"
             ],
             [
              0.4444444444444444,
              "#bd3786"
             ],
             [
              0.5555555555555556,
              "#d8576b"
             ],
             [
              0.6666666666666666,
              "#ed7953"
             ],
             [
              0.7777777777777778,
              "#fb9f3a"
             ],
             [
              0.8888888888888888,
              "#fdca26"
             ],
             [
              1,
              "#f0f921"
             ]
            ],
            "type": "histogram2d"
           }
          ],
          "histogram2dcontour": [
           {
            "colorbar": {
             "outlinewidth": 0,
             "ticks": ""
            },
            "colorscale": [
             [
              0,
              "#0d0887"
             ],
             [
              0.1111111111111111,
              "#46039f"
             ],
             [
              0.2222222222222222,
              "#7201a8"
             ],
             [
              0.3333333333333333,
              "#9c179e"
             ],
             [
              0.4444444444444444,
              "#bd3786"
             ],
             [
              0.5555555555555556,
              "#d8576b"
             ],
             [
              0.6666666666666666,
              "#ed7953"
             ],
             [
              0.7777777777777778,
              "#fb9f3a"
             ],
             [
              0.8888888888888888,
              "#fdca26"
             ],
             [
              1,
              "#f0f921"
             ]
            ],
            "type": "histogram2dcontour"
           }
          ],
          "mesh3d": [
           {
            "colorbar": {
             "outlinewidth": 0,
             "ticks": ""
            },
            "type": "mesh3d"
           }
          ],
          "parcoords": [
           {
            "line": {
             "colorbar": {
              "outlinewidth": 0,
              "ticks": ""
             }
            },
            "type": "parcoords"
           }
          ],
          "pie": [
           {
            "automargin": true,
            "type": "pie"
           }
          ],
          "scatter": [
           {
            "fillpattern": {
             "fillmode": "overlay",
             "size": 10,
             "solidity": 0.2
            },
            "type": "scatter"
           }
          ],
          "scatter3d": [
           {
            "line": {
             "colorbar": {
              "outlinewidth": 0,
              "ticks": ""
             }
            },
            "marker": {
             "colorbar": {
              "outlinewidth": 0,
              "ticks": ""
             }
            },
            "type": "scatter3d"
           }
          ],
          "scattercarpet": [
           {
            "marker": {
             "colorbar": {
              "outlinewidth": 0,
              "ticks": ""
             }
            },
            "type": "scattercarpet"
           }
          ],
          "scattergeo": [
           {
            "marker": {
             "colorbar": {
              "outlinewidth": 0,
              "ticks": ""
             }
            },
            "type": "scattergeo"
           }
          ],
          "scattergl": [
           {
            "marker": {
             "colorbar": {
              "outlinewidth": 0,
              "ticks": ""
             }
            },
            "type": "scattergl"
           }
          ],
          "scattermapbox": [
           {
            "marker": {
             "colorbar": {
              "outlinewidth": 0,
              "ticks": ""
             }
            },
            "type": "scattermapbox"
           }
          ],
          "scatterpolar": [
           {
            "marker": {
             "colorbar": {
              "outlinewidth": 0,
              "ticks": ""
             }
            },
            "type": "scatterpolar"
           }
          ],
          "scatterpolargl": [
           {
            "marker": {
             "colorbar": {
              "outlinewidth": 0,
              "ticks": ""
             }
            },
            "type": "scatterpolargl"
           }
          ],
          "scatterternary": [
           {
            "marker": {
             "colorbar": {
              "outlinewidth": 0,
              "ticks": ""
             }
            },
            "type": "scatterternary"
           }
          ],
          "surface": [
           {
            "colorbar": {
             "outlinewidth": 0,
             "ticks": ""
            },
            "colorscale": [
             [
              0,
              "#0d0887"
             ],
             [
              0.1111111111111111,
              "#46039f"
             ],
             [
              0.2222222222222222,
              "#7201a8"
             ],
             [
              0.3333333333333333,
              "#9c179e"
             ],
             [
              0.4444444444444444,
              "#bd3786"
             ],
             [
              0.5555555555555556,
              "#d8576b"
             ],
             [
              0.6666666666666666,
              "#ed7953"
             ],
             [
              0.7777777777777778,
              "#fb9f3a"
             ],
             [
              0.8888888888888888,
              "#fdca26"
             ],
             [
              1,
              "#f0f921"
             ]
            ],
            "type": "surface"
           }
          ],
          "table": [
           {
            "cells": {
             "fill": {
              "color": "#EBF0F8"
             },
             "line": {
              "color": "white"
             }
            },
            "header": {
             "fill": {
              "color": "#C8D4E3"
             },
             "line": {
              "color": "white"
             }
            },
            "type": "table"
           }
          ]
         },
         "layout": {
          "annotationdefaults": {
           "arrowcolor": "#2a3f5f",
           "arrowhead": 0,
           "arrowwidth": 1
          },
          "autotypenumbers": "strict",
          "coloraxis": {
           "colorbar": {
            "outlinewidth": 0,
            "ticks": ""
           }
          },
          "colorscale": {
           "diverging": [
            [
             0,
             "#8e0152"
            ],
            [
             0.1,
             "#c51b7d"
            ],
            [
             0.2,
             "#de77ae"
            ],
            [
             0.3,
             "#f1b6da"
            ],
            [
             0.4,
             "#fde0ef"
            ],
            [
             0.5,
             "#f7f7f7"
            ],
            [
             0.6,
             "#e6f5d0"
            ],
            [
             0.7,
             "#b8e186"
            ],
            [
             0.8,
             "#7fbc41"
            ],
            [
             0.9,
             "#4d9221"
            ],
            [
             1,
             "#276419"
            ]
           ],
           "sequential": [
            [
             0,
             "#0d0887"
            ],
            [
             0.1111111111111111,
             "#46039f"
            ],
            [
             0.2222222222222222,
             "#7201a8"
            ],
            [
             0.3333333333333333,
             "#9c179e"
            ],
            [
             0.4444444444444444,
             "#bd3786"
            ],
            [
             0.5555555555555556,
             "#d8576b"
            ],
            [
             0.6666666666666666,
             "#ed7953"
            ],
            [
             0.7777777777777778,
             "#fb9f3a"
            ],
            [
             0.8888888888888888,
             "#fdca26"
            ],
            [
             1,
             "#f0f921"
            ]
           ],
           "sequentialminus": [
            [
             0,
             "#0d0887"
            ],
            [
             0.1111111111111111,
             "#46039f"
            ],
            [
             0.2222222222222222,
             "#7201a8"
            ],
            [
             0.3333333333333333,
             "#9c179e"
            ],
            [
             0.4444444444444444,
             "#bd3786"
            ],
            [
             0.5555555555555556,
             "#d8576b"
            ],
            [
             0.6666666666666666,
             "#ed7953"
            ],
            [
             0.7777777777777778,
             "#fb9f3a"
            ],
            [
             0.8888888888888888,
             "#fdca26"
            ],
            [
             1,
             "#f0f921"
            ]
           ]
          },
          "colorway": [
           "#636efa",
           "#EF553B",
           "#00cc96",
           "#ab63fa",
           "#FFA15A",
           "#19d3f3",
           "#FF6692",
           "#B6E880",
           "#FF97FF",
           "#FECB52"
          ],
          "font": {
           "color": "#2a3f5f"
          },
          "geo": {
           "bgcolor": "white",
           "lakecolor": "white",
           "landcolor": "#E5ECF6",
           "showlakes": true,
           "showland": true,
           "subunitcolor": "white"
          },
          "hoverlabel": {
           "align": "left"
          },
          "hovermode": "closest",
          "mapbox": {
           "style": "light"
          },
          "paper_bgcolor": "white",
          "plot_bgcolor": "#E5ECF6",
          "polar": {
           "angularaxis": {
            "gridcolor": "white",
            "linecolor": "white",
            "ticks": ""
           },
           "bgcolor": "#E5ECF6",
           "radialaxis": {
            "gridcolor": "white",
            "linecolor": "white",
            "ticks": ""
           }
          },
          "scene": {
           "xaxis": {
            "backgroundcolor": "#E5ECF6",
            "gridcolor": "white",
            "gridwidth": 2,
            "linecolor": "white",
            "showbackground": true,
            "ticks": "",
            "zerolinecolor": "white"
           },
           "yaxis": {
            "backgroundcolor": "#E5ECF6",
            "gridcolor": "white",
            "gridwidth": 2,
            "linecolor": "white",
            "showbackground": true,
            "ticks": "",
            "zerolinecolor": "white"
           },
           "zaxis": {
            "backgroundcolor": "#E5ECF6",
            "gridcolor": "white",
            "gridwidth": 2,
            "linecolor": "white",
            "showbackground": true,
            "ticks": "",
            "zerolinecolor": "white"
           }
          },
          "shapedefaults": {
           "line": {
            "color": "#2a3f5f"
           }
          },
          "ternary": {
           "aaxis": {
            "gridcolor": "white",
            "linecolor": "white",
            "ticks": ""
           },
           "baxis": {
            "gridcolor": "white",
            "linecolor": "white",
            "ticks": ""
           },
           "bgcolor": "#E5ECF6",
           "caxis": {
            "gridcolor": "white",
            "linecolor": "white",
            "ticks": ""
           }
          },
          "title": {
           "x": 0.05
          },
          "xaxis": {
           "automargin": true,
           "gridcolor": "white",
           "linecolor": "white",
           "ticks": "",
           "title": {
            "standoff": 15
           },
           "zerolinecolor": "white",
           "zerolinewidth": 2
          },
          "yaxis": {
           "automargin": true,
           "gridcolor": "white",
           "linecolor": "white",
           "ticks": "",
           "title": {
            "standoff": 15
           },
           "zerolinecolor": "white",
           "zerolinewidth": 2
          }
         }
        },
        "title": {
         "text": "Distribution of Salary Expectations by Department",
         "x": 0.5,
         "xanchor": "center",
         "y": 0.95,
         "yanchor": "top"
        },
        "xaxis": {
         "anchor": "y",
         "domain": [
          0,
          1
         ],
         "title": {
          "text": "Department"
         }
        },
        "yaxis": {
         "anchor": "x",
         "domain": [
          0,
          1
         ],
         "range": [
          55000,
          65000
         ],
         "title": {
          "text": "Expected Salary"
         }
        }
       }
      }
     },
     "metadata": {},
     "output_type": "display_data"
    }
   ],
   "source": [
    "# Salary Expectations Box Plot\n",
    "fig = px.box(\n",
    "    df, \n",
    "    x='department', \n",
    "    y='salary_expected',\n",
    "    title='Distribution of Salary Expectations by Department',\n",
    "    labels={'salary_expected': 'Salary Expected', 'department': 'Department'}\n",
    ")\n",
    "\n",
    "# Calculate the overall mean, excluding values over 70,000\n",
    "overall_mean = df[df['salary_expected'] <= 70000]['salary_expected'].mean()\n",
    "\n",
    "# Update layout for better readability\n",
    "fig.update_layout(\n",
    "    xaxis_title='Department',\n",
    "    yaxis_title='Expected Salary',\n",
    "    margin=dict(l=20, r=20, t=60, b=20),\n",
    "    yaxis=dict(range=[55000, 65000]),  # Set y-axis limits,\n",
    "    title={\n",
    "        'text': 'Distribution of Salary Expectations by Department',\n",
    "        'y':0.95,\n",
    "        'x':0.5,\n",
    "        'xanchor': 'center',\n",
    "        'yanchor': 'top'\n",
    "    },\n",
    "    paper_bgcolor='rgba(0,0,0,0)',\n",
    "    plot_bgcolor='rgba(0,0,0,0)'\n",
    ")\n",
    "# Add a line for the overall mean\n",
    "fig.add_shape(\n",
    "    type='line',\n",
    "    y0=overall_mean,\n",
    "    y1=overall_mean,\n",
    "    x0=-0.5,\n",
    "    x1=4.5,\n",
    "    line=dict(\n",
    "        color='red',\n",
    "        width=1,\n",
    "        dash='dash'\n",
    "    )\n",
    ")\n",
    "# Show the plot\n",
    "fig.show()"
   ]
  },
  {
   "cell_type": "code",
   "execution_count": 14,
   "metadata": {},
   "outputs": [
    {
     "data": {
      "application/vnd.plotly.v1+json": {
       "config": {
        "plotlyServerURL": "https://plot.ly"
       },
       "data": [
        {
         "alignmentgroup": "True",
         "hovertemplate": "measure_type=diff_mean<br>Department=%{x}<br>Difference from Overall Median=%{y}<extra></extra>",
         "legendgroup": "diff_mean",
         "marker": {
          "color": "#636efa",
          "pattern": {
           "shape": ""
          }
         },
         "name": "diff_mean",
         "offsetgroup": "diff_mean",
         "orientation": "v",
         "showlegend": true,
         "textposition": "auto",
         "type": "bar",
         "x": [
          "B.com Accounting & Finance",
          "B.com ISM",
          "BCA",
          "Commerce"
         ],
         "xaxis": "x",
         "y": [
          493.33333333333576,
          35.714285714282596,
          483.33333333333576,
          63.33333333333576
         ],
         "yaxis": "y"
        },
        {
         "alignmentgroup": "True",
         "hovertemplate": "measure_type=diff_median<br>Department=%{x}<br>Difference from Overall Median=%{y}<extra></extra>",
         "legendgroup": "diff_median",
         "marker": {
          "color": "#EF553B",
          "pattern": {
           "shape": ""
          }
         },
         "name": "diff_median",
         "offsetgroup": "diff_median",
         "orientation": "v",
         "showlegend": true,
         "textposition": "auto",
         "type": "bar",
         "x": [
          "B.com Accounting & Finance",
          "B.com ISM",
          "BCA",
          "Commerce"
         ],
         "xaxis": "x",
         "y": [
          700,
          -100,
          -50,
          -150
         ],
         "yaxis": "y"
        }
       ],
       "layout": {
        "bargap": 0.15,
        "bargroupgap": 0.1,
        "barmode": "group",
        "legend": {
         "title": {
          "text": "measure_type"
         },
         "tracegroupgap": 0
        },
        "template": {
         "data": {
          "bar": [
           {
            "error_x": {
             "color": "#2a3f5f"
            },
            "error_y": {
             "color": "#2a3f5f"
            },
            "marker": {
             "line": {
              "color": "#E5ECF6",
              "width": 0.5
             },
             "pattern": {
              "fillmode": "overlay",
              "size": 10,
              "solidity": 0.2
             }
            },
            "type": "bar"
           }
          ],
          "barpolar": [
           {
            "marker": {
             "line": {
              "color": "#E5ECF6",
              "width": 0.5
             },
             "pattern": {
              "fillmode": "overlay",
              "size": 10,
              "solidity": 0.2
             }
            },
            "type": "barpolar"
           }
          ],
          "carpet": [
           {
            "aaxis": {
             "endlinecolor": "#2a3f5f",
             "gridcolor": "white",
             "linecolor": "white",
             "minorgridcolor": "white",
             "startlinecolor": "#2a3f5f"
            },
            "baxis": {
             "endlinecolor": "#2a3f5f",
             "gridcolor": "white",
             "linecolor": "white",
             "minorgridcolor": "white",
             "startlinecolor": "#2a3f5f"
            },
            "type": "carpet"
           }
          ],
          "choropleth": [
           {
            "colorbar": {
             "outlinewidth": 0,
             "ticks": ""
            },
            "type": "choropleth"
           }
          ],
          "contour": [
           {
            "colorbar": {
             "outlinewidth": 0,
             "ticks": ""
            },
            "colorscale": [
             [
              0,
              "#0d0887"
             ],
             [
              0.1111111111111111,
              "#46039f"
             ],
             [
              0.2222222222222222,
              "#7201a8"
             ],
             [
              0.3333333333333333,
              "#9c179e"
             ],
             [
              0.4444444444444444,
              "#bd3786"
             ],
             [
              0.5555555555555556,
              "#d8576b"
             ],
             [
              0.6666666666666666,
              "#ed7953"
             ],
             [
              0.7777777777777778,
              "#fb9f3a"
             ],
             [
              0.8888888888888888,
              "#fdca26"
             ],
             [
              1,
              "#f0f921"
             ]
            ],
            "type": "contour"
           }
          ],
          "contourcarpet": [
           {
            "colorbar": {
             "outlinewidth": 0,
             "ticks": ""
            },
            "type": "contourcarpet"
           }
          ],
          "heatmap": [
           {
            "colorbar": {
             "outlinewidth": 0,
             "ticks": ""
            },
            "colorscale": [
             [
              0,
              "#0d0887"
             ],
             [
              0.1111111111111111,
              "#46039f"
             ],
             [
              0.2222222222222222,
              "#7201a8"
             ],
             [
              0.3333333333333333,
              "#9c179e"
             ],
             [
              0.4444444444444444,
              "#bd3786"
             ],
             [
              0.5555555555555556,
              "#d8576b"
             ],
             [
              0.6666666666666666,
              "#ed7953"
             ],
             [
              0.7777777777777778,
              "#fb9f3a"
             ],
             [
              0.8888888888888888,
              "#fdca26"
             ],
             [
              1,
              "#f0f921"
             ]
            ],
            "type": "heatmap"
           }
          ],
          "heatmapgl": [
           {
            "colorbar": {
             "outlinewidth": 0,
             "ticks": ""
            },
            "colorscale": [
             [
              0,
              "#0d0887"
             ],
             [
              0.1111111111111111,
              "#46039f"
             ],
             [
              0.2222222222222222,
              "#7201a8"
             ],
             [
              0.3333333333333333,
              "#9c179e"
             ],
             [
              0.4444444444444444,
              "#bd3786"
             ],
             [
              0.5555555555555556,
              "#d8576b"
             ],
             [
              0.6666666666666666,
              "#ed7953"
             ],
             [
              0.7777777777777778,
              "#fb9f3a"
             ],
             [
              0.8888888888888888,
              "#fdca26"
             ],
             [
              1,
              "#f0f921"
             ]
            ],
            "type": "heatmapgl"
           }
          ],
          "histogram": [
           {
            "marker": {
             "pattern": {
              "fillmode": "overlay",
              "size": 10,
              "solidity": 0.2
             }
            },
            "type": "histogram"
           }
          ],
          "histogram2d": [
           {
            "colorbar": {
             "outlinewidth": 0,
             "ticks": ""
            },
            "colorscale": [
             [
              0,
              "#0d0887"
             ],
             [
              0.1111111111111111,
              "#46039f"
             ],
             [
              0.2222222222222222,
              "#7201a8"
             ],
             [
              0.3333333333333333,
              "#9c179e"
             ],
             [
              0.4444444444444444,
              "#bd3786"
             ],
             [
              0.5555555555555556,
              "#d8576b"
             ],
             [
              0.6666666666666666,
              "#ed7953"
             ],
             [
              0.7777777777777778,
              "#fb9f3a"
             ],
             [
              0.8888888888888888,
              "#fdca26"
             ],
             [
              1,
              "#f0f921"
             ]
            ],
            "type": "histogram2d"
           }
          ],
          "histogram2dcontour": [
           {
            "colorbar": {
             "outlinewidth": 0,
             "ticks": ""
            },
            "colorscale": [
             [
              0,
              "#0d0887"
             ],
             [
              0.1111111111111111,
              "#46039f"
             ],
             [
              0.2222222222222222,
              "#7201a8"
             ],
             [
              0.3333333333333333,
              "#9c179e"
             ],
             [
              0.4444444444444444,
              "#bd3786"
             ],
             [
              0.5555555555555556,
              "#d8576b"
             ],
             [
              0.6666666666666666,
              "#ed7953"
             ],
             [
              0.7777777777777778,
              "#fb9f3a"
             ],
             [
              0.8888888888888888,
              "#fdca26"
             ],
             [
              1,
              "#f0f921"
             ]
            ],
            "type": "histogram2dcontour"
           }
          ],
          "mesh3d": [
           {
            "colorbar": {
             "outlinewidth": 0,
             "ticks": ""
            },
            "type": "mesh3d"
           }
          ],
          "parcoords": [
           {
            "line": {
             "colorbar": {
              "outlinewidth": 0,
              "ticks": ""
             }
            },
            "type": "parcoords"
           }
          ],
          "pie": [
           {
            "automargin": true,
            "type": "pie"
           }
          ],
          "scatter": [
           {
            "fillpattern": {
             "fillmode": "overlay",
             "size": 10,
             "solidity": 0.2
            },
            "type": "scatter"
           }
          ],
          "scatter3d": [
           {
            "line": {
             "colorbar": {
              "outlinewidth": 0,
              "ticks": ""
             }
            },
            "marker": {
             "colorbar": {
              "outlinewidth": 0,
              "ticks": ""
             }
            },
            "type": "scatter3d"
           }
          ],
          "scattercarpet": [
           {
            "marker": {
             "colorbar": {
              "outlinewidth": 0,
              "ticks": ""
             }
            },
            "type": "scattercarpet"
           }
          ],
          "scattergeo": [
           {
            "marker": {
             "colorbar": {
              "outlinewidth": 0,
              "ticks": ""
             }
            },
            "type": "scattergeo"
           }
          ],
          "scattergl": [
           {
            "marker": {
             "colorbar": {
              "outlinewidth": 0,
              "ticks": ""
             }
            },
            "type": "scattergl"
           }
          ],
          "scattermapbox": [
           {
            "marker": {
             "colorbar": {
              "outlinewidth": 0,
              "ticks": ""
             }
            },
            "type": "scattermapbox"
           }
          ],
          "scatterpolar": [
           {
            "marker": {
             "colorbar": {
              "outlinewidth": 0,
              "ticks": ""
             }
            },
            "type": "scatterpolar"
           }
          ],
          "scatterpolargl": [
           {
            "marker": {
             "colorbar": {
              "outlinewidth": 0,
              "ticks": ""
             }
            },
            "type": "scatterpolargl"
           }
          ],
          "scatterternary": [
           {
            "marker": {
             "colorbar": {
              "outlinewidth": 0,
              "ticks": ""
             }
            },
            "type": "scatterternary"
           }
          ],
          "surface": [
           {
            "colorbar": {
             "outlinewidth": 0,
             "ticks": ""
            },
            "colorscale": [
             [
              0,
              "#0d0887"
             ],
             [
              0.1111111111111111,
              "#46039f"
             ],
             [
              0.2222222222222222,
              "#7201a8"
             ],
             [
              0.3333333333333333,
              "#9c179e"
             ],
             [
              0.4444444444444444,
              "#bd3786"
             ],
             [
              0.5555555555555556,
              "#d8576b"
             ],
             [
              0.6666666666666666,
              "#ed7953"
             ],
             [
              0.7777777777777778,
              "#fb9f3a"
             ],
             [
              0.8888888888888888,
              "#fdca26"
             ],
             [
              1,
              "#f0f921"
             ]
            ],
            "type": "surface"
           }
          ],
          "table": [
           {
            "cells": {
             "fill": {
              "color": "#EBF0F8"
             },
             "line": {
              "color": "white"
             }
            },
            "header": {
             "fill": {
              "color": "#C8D4E3"
             },
             "line": {
              "color": "white"
             }
            },
            "type": "table"
           }
          ]
         },
         "layout": {
          "annotationdefaults": {
           "arrowcolor": "#2a3f5f",
           "arrowhead": 0,
           "arrowwidth": 1
          },
          "autotypenumbers": "strict",
          "coloraxis": {
           "colorbar": {
            "outlinewidth": 0,
            "ticks": ""
           }
          },
          "colorscale": {
           "diverging": [
            [
             0,
             "#8e0152"
            ],
            [
             0.1,
             "#c51b7d"
            ],
            [
             0.2,
             "#de77ae"
            ],
            [
             0.3,
             "#f1b6da"
            ],
            [
             0.4,
             "#fde0ef"
            ],
            [
             0.5,
             "#f7f7f7"
            ],
            [
             0.6,
             "#e6f5d0"
            ],
            [
             0.7,
             "#b8e186"
            ],
            [
             0.8,
             "#7fbc41"
            ],
            [
             0.9,
             "#4d9221"
            ],
            [
             1,
             "#276419"
            ]
           ],
           "sequential": [
            [
             0,
             "#0d0887"
            ],
            [
             0.1111111111111111,
             "#46039f"
            ],
            [
             0.2222222222222222,
             "#7201a8"
            ],
            [
             0.3333333333333333,
             "#9c179e"
            ],
            [
             0.4444444444444444,
             "#bd3786"
            ],
            [
             0.5555555555555556,
             "#d8576b"
            ],
            [
             0.6666666666666666,
             "#ed7953"
            ],
            [
             0.7777777777777778,
             "#fb9f3a"
            ],
            [
             0.8888888888888888,
             "#fdca26"
            ],
            [
             1,
             "#f0f921"
            ]
           ],
           "sequentialminus": [
            [
             0,
             "#0d0887"
            ],
            [
             0.1111111111111111,
             "#46039f"
            ],
            [
             0.2222222222222222,
             "#7201a8"
            ],
            [
             0.3333333333333333,
             "#9c179e"
            ],
            [
             0.4444444444444444,
             "#bd3786"
            ],
            [
             0.5555555555555556,
             "#d8576b"
            ],
            [
             0.6666666666666666,
             "#ed7953"
            ],
            [
             0.7777777777777778,
             "#fb9f3a"
            ],
            [
             0.8888888888888888,
             "#fdca26"
            ],
            [
             1,
             "#f0f921"
            ]
           ]
          },
          "colorway": [
           "#636efa",
           "#EF553B",
           "#00cc96",
           "#ab63fa",
           "#FFA15A",
           "#19d3f3",
           "#FF6692",
           "#B6E880",
           "#FF97FF",
           "#FECB52"
          ],
          "font": {
           "color": "#2a3f5f"
          },
          "geo": {
           "bgcolor": "white",
           "lakecolor": "white",
           "landcolor": "#E5ECF6",
           "showlakes": true,
           "showland": true,
           "subunitcolor": "white"
          },
          "hoverlabel": {
           "align": "left"
          },
          "hovermode": "closest",
          "mapbox": {
           "style": "light"
          },
          "paper_bgcolor": "white",
          "plot_bgcolor": "#E5ECF6",
          "polar": {
           "angularaxis": {
            "gridcolor": "white",
            "linecolor": "white",
            "ticks": ""
           },
           "bgcolor": "#E5ECF6",
           "radialaxis": {
            "gridcolor": "white",
            "linecolor": "white",
            "ticks": ""
           }
          },
          "scene": {
           "xaxis": {
            "backgroundcolor": "#E5ECF6",
            "gridcolor": "white",
            "gridwidth": 2,
            "linecolor": "white",
            "showbackground": true,
            "ticks": "",
            "zerolinecolor": "white"
           },
           "yaxis": {
            "backgroundcolor": "#E5ECF6",
            "gridcolor": "white",
            "gridwidth": 2,
            "linecolor": "white",
            "showbackground": true,
            "ticks": "",
            "zerolinecolor": "white"
           },
           "zaxis": {
            "backgroundcolor": "#E5ECF6",
            "gridcolor": "white",
            "gridwidth": 2,
            "linecolor": "white",
            "showbackground": true,
            "ticks": "",
            "zerolinecolor": "white"
           }
          },
          "shapedefaults": {
           "line": {
            "color": "#2a3f5f"
           }
          },
          "ternary": {
           "aaxis": {
            "gridcolor": "white",
            "linecolor": "white",
            "ticks": ""
           },
           "baxis": {
            "gridcolor": "white",
            "linecolor": "white",
            "ticks": ""
           },
           "bgcolor": "#E5ECF6",
           "caxis": {
            "gridcolor": "white",
            "linecolor": "white",
            "ticks": ""
           }
          },
          "title": {
           "x": 0.05
          },
          "xaxis": {
           "automargin": true,
           "gridcolor": "white",
           "linecolor": "white",
           "ticks": "",
           "title": {
            "standoff": 15
           },
           "zerolinecolor": "white",
           "zerolinewidth": 2
          },
          "yaxis": {
           "automargin": true,
           "gridcolor": "white",
           "linecolor": "white",
           "ticks": "",
           "title": {
            "standoff": 15
           },
           "zerolinecolor": "white",
           "zerolinewidth": 2
          }
         }
        },
        "title": {
         "text": "Difference from Overall Median Salary Expectation by Department"
        },
        "xaxis": {
         "anchor": "y",
         "domain": [
          0,
          1
         ],
         "title": {
          "text": "Department"
         }
        },
        "yaxis": {
         "anchor": "x",
         "domain": [
          0,
          1
         ],
         "title": {
          "text": "Difference from Overall Median"
         }
        }
       }
      }
     },
     "metadata": {},
     "output_type": "display_data"
    }
   ],
   "source": [
    "# Calculate mean and median of salary_expected grouped by department\n",
    "grouped_salary = df.groupby('department')['salary_expected'].agg(['mean', 'median']).reset_index()\n",
    "\n",
    "# Calculate the overall median of salary_expected\n",
    "overall_median = df['salary_expected'].median()\n",
    "\n",
    "# Calculate the difference from the overall median\n",
    "grouped_salary['diff_mean'] = grouped_salary['mean'] - overall_median\n",
    "grouped_salary['diff_median'] = grouped_salary['median'] - overall_median\n",
    "\n",
    "# Melt the dataframe to have the measure type (diff_mean/diff_median) as a separate column\n",
    "melted_salary = pd.melt(grouped_salary, id_vars='department', value_vars=['diff_mean', 'diff_median'],\n",
    "                        var_name='measure_type', value_name='salary_diff')\n",
    "\n",
    "# Create a bar chart with Plotly Express\n",
    "fig = px.bar(\n",
    "    melted_salary,\n",
    "    x='department',\n",
    "    y='salary_diff',\n",
    "    color='measure_type',\n",
    "    title='Difference from Overall Median Salary Expectation by Department',\n",
    "    labels={'salary_diff': 'Difference from Overall Median', 'department': 'Department'},\n",
    "    barmode='group'\n",
    ")\n",
    "\n",
    "# Customize the layout\n",
    "fig.update_layout(\n",
    "    xaxis_title='Department',\n",
    "    yaxis_title='Difference from Overall Median',\n",
    "    barmode='group',\n",
    "    bargap=0.15,\n",
    "    bargroupgap=0.1\n",
    ")\n",
    "\n",
    "# Show the plot\n",
    "fig.show()"
   ]
  },
  {
   "cell_type": "markdown",
   "metadata": {},
   "source": [
    "## Degree Satisfaction by Department:\n",
    "> Display the distribution of 'Do you like your degree?' across different departments\n"
   ]
  },
  {
   "cell_type": "code",
   "execution_count": 15,
   "metadata": {},
   "outputs": [
    {
     "data": {
      "application/vnd.plotly.v1+json": {
       "config": {
        "plotlyServerURL": "https://plot.ly"
       },
       "data": [
        {
         "domain": {
          "x": [
           0,
           0.235
          ],
          "y": [
           0,
           1
          ]
         },
         "hovertemplate": "department=BCA<br>degree_happy=%{label}<extra></extra>",
         "labels": [
          "No",
          "Yes",
          "Yes",
          "Yes",
          "Yes",
          "Yes",
          "Yes",
          "Yes",
          "Yes",
          "Yes",
          "Yes",
          "No",
          "Yes",
          "Yes",
          "Yes",
          "Yes",
          "Yes",
          "Yes",
          "Yes",
          "Yes",
          "Yes",
          "Yes",
          "Yes",
          "Yes",
          "Yes",
          "No",
          "Yes",
          "Yes",
          "Yes",
          "Yes",
          "Yes",
          "Yes",
          "Yes",
          "Yes",
          "Yes",
          "Yes",
          "No",
          "Yes",
          "No",
          "Yes",
          "Yes",
          "Yes",
          "No",
          "Yes",
          "No",
          "Yes",
          "Yes",
          "Yes",
          "No",
          "Yes",
          "Yes",
          "Yes",
          "Yes",
          "Yes",
          "Yes",
          "Yes",
          "Yes",
          "Yes",
          "Yes",
          "Yes",
          "No",
          "Yes",
          "Yes",
          "No",
          "Yes",
          "Yes",
          "Yes",
          "Yes",
          "Yes",
          "Yes",
          "No",
          "Yes",
          "Yes",
          "Yes",
          "Yes",
          "No",
          "Yes",
          "Yes",
          "Yes",
          "Yes",
          "No",
          "No",
          "Yes",
          "Yes",
          "Yes",
          "Yes",
          "Yes",
          "Yes",
          "Yes",
          "Yes",
          "No",
          "Yes",
          "Yes",
          "Yes",
          "Yes",
          "Yes",
          "Yes",
          "Yes",
          "Yes",
          "Yes",
          "Yes",
          "Yes",
          "Yes",
          "Yes",
          "Yes",
          "Yes",
          "Yes",
          "Yes",
          "Yes",
          "Yes",
          "Yes",
          "Yes",
          "Yes",
          "Yes",
          "Yes",
          "Yes",
          "Yes",
          "Yes",
          "Yes",
          "Yes",
          "Yes",
          "Yes",
          "No",
          "Yes",
          "Yes",
          "Yes",
          "Yes",
          "Yes",
          "Yes",
          "Yes",
          "Yes",
          "Yes"
         ],
         "legendgroup": "",
         "name": "",
         "showlegend": true,
         "type": "pie"
        },
        {
         "domain": {
          "x": [
           0.255,
           0.49
          ],
          "y": [
           0,
           1
          ]
         },
         "hovertemplate": "department=B.com ISM<br>degree_happy=%{label}<extra></extra>",
         "labels": [
          "Yes",
          "Yes",
          "Yes",
          "Yes",
          "Yes",
          "Yes",
          "Yes",
          "Yes",
          "Yes",
          "Yes",
          "Yes",
          "Yes",
          "Yes",
          "Yes",
          "Yes",
          "Yes",
          "Yes",
          "Yes",
          "Yes",
          "No",
          "Yes",
          "Yes",
          "Yes",
          "Yes",
          "No",
          "Yes",
          "Yes",
          "Yes"
         ],
         "legendgroup": "",
         "name": "",
         "showlegend": true,
         "type": "pie"
        },
        {
         "domain": {
          "x": [
           0.51,
           0.745
          ],
          "y": [
           0,
           1
          ]
         },
         "hovertemplate": "department=Commerce<br>degree_happy=%{label}<extra></extra>",
         "labels": [
          "Yes",
          "Yes",
          "Yes",
          "Yes",
          "Yes",
          "Yes",
          "Yes",
          "Yes",
          "Yes",
          "Yes",
          "Yes",
          "Yes",
          "Yes",
          "Yes",
          "Yes",
          "Yes",
          "Yes",
          "Yes",
          "Yes",
          "Yes",
          "Yes",
          "Yes",
          "Yes",
          "Yes",
          "Yes",
          "Yes",
          "Yes",
          "Yes",
          "Yes",
          "Yes",
          "Yes",
          "Yes",
          "Yes",
          "Yes",
          "Yes",
          "Yes",
          "Yes",
          "Yes",
          "Yes",
          "Yes",
          "No",
          "Yes",
          "Yes",
          "Yes",
          "Yes",
          "Yes",
          "Yes",
          "Yes",
          "Yes",
          "Yes",
          "Yes",
          "Yes",
          "Yes",
          "Yes",
          "Yes",
          "Yes",
          "Yes",
          "Yes",
          "Yes",
          "Yes"
         ],
         "legendgroup": "",
         "name": "",
         "showlegend": true,
         "type": "pie"
        },
        {
         "domain": {
          "x": [
           0.7649999999999999,
           0.9999999999999999
          ],
          "y": [
           0,
           1
          ]
         },
         "hovertemplate": "department=B.com Accounting & Finance<br>degree_happy=%{label}<extra></extra>",
         "labels": [
          "Yes",
          "Yes",
          "Yes",
          "Yes",
          "Yes",
          "Yes",
          "Yes",
          "Yes",
          "Yes",
          "Yes",
          "No",
          "Yes",
          "Yes",
          "Yes",
          "Yes"
         ],
         "legendgroup": "",
         "name": "",
         "showlegend": true,
         "type": "pie"
        }
       ],
       "layout": {
        "annotations": [
         {
          "font": {},
          "showarrow": false,
          "text": "department=BCA",
          "x": 0.1175,
          "xanchor": "center",
          "xref": "paper",
          "y": 1,
          "yanchor": "bottom",
          "yref": "paper"
         },
         {
          "font": {},
          "showarrow": false,
          "text": "department=B.com ISM",
          "x": 0.3725,
          "xanchor": "center",
          "xref": "paper",
          "y": 1,
          "yanchor": "bottom",
          "yref": "paper"
         },
         {
          "font": {},
          "showarrow": false,
          "text": "department=Commerce",
          "x": 0.6275,
          "xanchor": "center",
          "xref": "paper",
          "y": 1,
          "yanchor": "bottom",
          "yref": "paper"
         },
         {
          "font": {},
          "showarrow": false,
          "text": "department=B.com Accounting & Finance",
          "x": 0.8824999999999998,
          "xanchor": "center",
          "xref": "paper",
          "y": 1,
          "yanchor": "bottom",
          "yref": "paper"
         }
        ],
        "legend": {
         "tracegroupgap": 0
        },
        "piecolorway": [
         "skyblue",
         "orange"
        ],
        "template": {
         "data": {
          "bar": [
           {
            "error_x": {
             "color": "#2a3f5f"
            },
            "error_y": {
             "color": "#2a3f5f"
            },
            "marker": {
             "line": {
              "color": "#E5ECF6",
              "width": 0.5
             },
             "pattern": {
              "fillmode": "overlay",
              "size": 10,
              "solidity": 0.2
             }
            },
            "type": "bar"
           }
          ],
          "barpolar": [
           {
            "marker": {
             "line": {
              "color": "#E5ECF6",
              "width": 0.5
             },
             "pattern": {
              "fillmode": "overlay",
              "size": 10,
              "solidity": 0.2
             }
            },
            "type": "barpolar"
           }
          ],
          "carpet": [
           {
            "aaxis": {
             "endlinecolor": "#2a3f5f",
             "gridcolor": "white",
             "linecolor": "white",
             "minorgridcolor": "white",
             "startlinecolor": "#2a3f5f"
            },
            "baxis": {
             "endlinecolor": "#2a3f5f",
             "gridcolor": "white",
             "linecolor": "white",
             "minorgridcolor": "white",
             "startlinecolor": "#2a3f5f"
            },
            "type": "carpet"
           }
          ],
          "choropleth": [
           {
            "colorbar": {
             "outlinewidth": 0,
             "ticks": ""
            },
            "type": "choropleth"
           }
          ],
          "contour": [
           {
            "colorbar": {
             "outlinewidth": 0,
             "ticks": ""
            },
            "colorscale": [
             [
              0,
              "#0d0887"
             ],
             [
              0.1111111111111111,
              "#46039f"
             ],
             [
              0.2222222222222222,
              "#7201a8"
             ],
             [
              0.3333333333333333,
              "#9c179e"
             ],
             [
              0.4444444444444444,
              "#bd3786"
             ],
             [
              0.5555555555555556,
              "#d8576b"
             ],
             [
              0.6666666666666666,
              "#ed7953"
             ],
             [
              0.7777777777777778,
              "#fb9f3a"
             ],
             [
              0.8888888888888888,
              "#fdca26"
             ],
             [
              1,
              "#f0f921"
             ]
            ],
            "type": "contour"
           }
          ],
          "contourcarpet": [
           {
            "colorbar": {
             "outlinewidth": 0,
             "ticks": ""
            },
            "type": "contourcarpet"
           }
          ],
          "heatmap": [
           {
            "colorbar": {
             "outlinewidth": 0,
             "ticks": ""
            },
            "colorscale": [
             [
              0,
              "#0d0887"
             ],
             [
              0.1111111111111111,
              "#46039f"
             ],
             [
              0.2222222222222222,
              "#7201a8"
             ],
             [
              0.3333333333333333,
              "#9c179e"
             ],
             [
              0.4444444444444444,
              "#bd3786"
             ],
             [
              0.5555555555555556,
              "#d8576b"
             ],
             [
              0.6666666666666666,
              "#ed7953"
             ],
             [
              0.7777777777777778,
              "#fb9f3a"
             ],
             [
              0.8888888888888888,
              "#fdca26"
             ],
             [
              1,
              "#f0f921"
             ]
            ],
            "type": "heatmap"
           }
          ],
          "heatmapgl": [
           {
            "colorbar": {
             "outlinewidth": 0,
             "ticks": ""
            },
            "colorscale": [
             [
              0,
              "#0d0887"
             ],
             [
              0.1111111111111111,
              "#46039f"
             ],
             [
              0.2222222222222222,
              "#7201a8"
             ],
             [
              0.3333333333333333,
              "#9c179e"
             ],
             [
              0.4444444444444444,
              "#bd3786"
             ],
             [
              0.5555555555555556,
              "#d8576b"
             ],
             [
              0.6666666666666666,
              "#ed7953"
             ],
             [
              0.7777777777777778,
              "#fb9f3a"
             ],
             [
              0.8888888888888888,
              "#fdca26"
             ],
             [
              1,
              "#f0f921"
             ]
            ],
            "type": "heatmapgl"
           }
          ],
          "histogram": [
           {
            "marker": {
             "pattern": {
              "fillmode": "overlay",
              "size": 10,
              "solidity": 0.2
             }
            },
            "type": "histogram"
           }
          ],
          "histogram2d": [
           {
            "colorbar": {
             "outlinewidth": 0,
             "ticks": ""
            },
            "colorscale": [
             [
              0,
              "#0d0887"
             ],
             [
              0.1111111111111111,
              "#46039f"
             ],
             [
              0.2222222222222222,
              "#7201a8"
             ],
             [
              0.3333333333333333,
              "#9c179e"
             ],
             [
              0.4444444444444444,
              "#bd3786"
             ],
             [
              0.5555555555555556,
              "#d8576b"
             ],
             [
              0.6666666666666666,
              "#ed7953"
             ],
             [
              0.7777777777777778,
              "#fb9f3a"
             ],
             [
              0.8888888888888888,
              "#fdca26"
             ],
             [
              1,
              "#f0f921"
             ]
            ],
            "type": "histogram2d"
           }
          ],
          "histogram2dcontour": [
           {
            "colorbar": {
             "outlinewidth": 0,
             "ticks": ""
            },
            "colorscale": [
             [
              0,
              "#0d0887"
             ],
             [
              0.1111111111111111,
              "#46039f"
             ],
             [
              0.2222222222222222,
              "#7201a8"
             ],
             [
              0.3333333333333333,
              "#9c179e"
             ],
             [
              0.4444444444444444,
              "#bd3786"
             ],
             [
              0.5555555555555556,
              "#d8576b"
             ],
             [
              0.6666666666666666,
              "#ed7953"
             ],
             [
              0.7777777777777778,
              "#fb9f3a"
             ],
             [
              0.8888888888888888,
              "#fdca26"
             ],
             [
              1,
              "#f0f921"
             ]
            ],
            "type": "histogram2dcontour"
           }
          ],
          "mesh3d": [
           {
            "colorbar": {
             "outlinewidth": 0,
             "ticks": ""
            },
            "type": "mesh3d"
           }
          ],
          "parcoords": [
           {
            "line": {
             "colorbar": {
              "outlinewidth": 0,
              "ticks": ""
             }
            },
            "type": "parcoords"
           }
          ],
          "pie": [
           {
            "automargin": true,
            "type": "pie"
           }
          ],
          "scatter": [
           {
            "fillpattern": {
             "fillmode": "overlay",
             "size": 10,
             "solidity": 0.2
            },
            "type": "scatter"
           }
          ],
          "scatter3d": [
           {
            "line": {
             "colorbar": {
              "outlinewidth": 0,
              "ticks": ""
             }
            },
            "marker": {
             "colorbar": {
              "outlinewidth": 0,
              "ticks": ""
             }
            },
            "type": "scatter3d"
           }
          ],
          "scattercarpet": [
           {
            "marker": {
             "colorbar": {
              "outlinewidth": 0,
              "ticks": ""
             }
            },
            "type": "scattercarpet"
           }
          ],
          "scattergeo": [
           {
            "marker": {
             "colorbar": {
              "outlinewidth": 0,
              "ticks": ""
             }
            },
            "type": "scattergeo"
           }
          ],
          "scattergl": [
           {
            "marker": {
             "colorbar": {
              "outlinewidth": 0,
              "ticks": ""
             }
            },
            "type": "scattergl"
           }
          ],
          "scattermapbox": [
           {
            "marker": {
             "colorbar": {
              "outlinewidth": 0,
              "ticks": ""
             }
            },
            "type": "scattermapbox"
           }
          ],
          "scatterpolar": [
           {
            "marker": {
             "colorbar": {
              "outlinewidth": 0,
              "ticks": ""
             }
            },
            "type": "scatterpolar"
           }
          ],
          "scatterpolargl": [
           {
            "marker": {
             "colorbar": {
              "outlinewidth": 0,
              "ticks": ""
             }
            },
            "type": "scatterpolargl"
           }
          ],
          "scatterternary": [
           {
            "marker": {
             "colorbar": {
              "outlinewidth": 0,
              "ticks": ""
             }
            },
            "type": "scatterternary"
           }
          ],
          "surface": [
           {
            "colorbar": {
             "outlinewidth": 0,
             "ticks": ""
            },
            "colorscale": [
             [
              0,
              "#0d0887"
             ],
             [
              0.1111111111111111,
              "#46039f"
             ],
             [
              0.2222222222222222,
              "#7201a8"
             ],
             [
              0.3333333333333333,
              "#9c179e"
             ],
             [
              0.4444444444444444,
              "#bd3786"
             ],
             [
              0.5555555555555556,
              "#d8576b"
             ],
             [
              0.6666666666666666,
              "#ed7953"
             ],
             [
              0.7777777777777778,
              "#fb9f3a"
             ],
             [
              0.8888888888888888,
              "#fdca26"
             ],
             [
              1,
              "#f0f921"
             ]
            ],
            "type": "surface"
           }
          ],
          "table": [
           {
            "cells": {
             "fill": {
              "color": "#EBF0F8"
             },
             "line": {
              "color": "white"
             }
            },
            "header": {
             "fill": {
              "color": "#C8D4E3"
             },
             "line": {
              "color": "white"
             }
            },
            "type": "table"
           }
          ]
         },
         "layout": {
          "annotationdefaults": {
           "arrowcolor": "#2a3f5f",
           "arrowhead": 0,
           "arrowwidth": 1
          },
          "autotypenumbers": "strict",
          "coloraxis": {
           "colorbar": {
            "outlinewidth": 0,
            "ticks": ""
           }
          },
          "colorscale": {
           "diverging": [
            [
             0,
             "#8e0152"
            ],
            [
             0.1,
             "#c51b7d"
            ],
            [
             0.2,
             "#de77ae"
            ],
            [
             0.3,
             "#f1b6da"
            ],
            [
             0.4,
             "#fde0ef"
            ],
            [
             0.5,
             "#f7f7f7"
            ],
            [
             0.6,
             "#e6f5d0"
            ],
            [
             0.7,
             "#b8e186"
            ],
            [
             0.8,
             "#7fbc41"
            ],
            [
             0.9,
             "#4d9221"
            ],
            [
             1,
             "#276419"
            ]
           ],
           "sequential": [
            [
             0,
             "#0d0887"
            ],
            [
             0.1111111111111111,
             "#46039f"
            ],
            [
             0.2222222222222222,
             "#7201a8"
            ],
            [
             0.3333333333333333,
             "#9c179e"
            ],
            [
             0.4444444444444444,
             "#bd3786"
            ],
            [
             0.5555555555555556,
             "#d8576b"
            ],
            [
             0.6666666666666666,
             "#ed7953"
            ],
            [
             0.7777777777777778,
             "#fb9f3a"
            ],
            [
             0.8888888888888888,
             "#fdca26"
            ],
            [
             1,
             "#f0f921"
            ]
           ],
           "sequentialminus": [
            [
             0,
             "#0d0887"
            ],
            [
             0.1111111111111111,
             "#46039f"
            ],
            [
             0.2222222222222222,
             "#7201a8"
            ],
            [
             0.3333333333333333,
             "#9c179e"
            ],
            [
             0.4444444444444444,
             "#bd3786"
            ],
            [
             0.5555555555555556,
             "#d8576b"
            ],
            [
             0.6666666666666666,
             "#ed7953"
            ],
            [
             0.7777777777777778,
             "#fb9f3a"
            ],
            [
             0.8888888888888888,
             "#fdca26"
            ],
            [
             1,
             "#f0f921"
            ]
           ]
          },
          "colorway": [
           "#636efa",
           "#EF553B",
           "#00cc96",
           "#ab63fa",
           "#FFA15A",
           "#19d3f3",
           "#FF6692",
           "#B6E880",
           "#FF97FF",
           "#FECB52"
          ],
          "font": {
           "color": "#2a3f5f"
          },
          "geo": {
           "bgcolor": "white",
           "lakecolor": "white",
           "landcolor": "#E5ECF6",
           "showlakes": true,
           "showland": true,
           "subunitcolor": "white"
          },
          "hoverlabel": {
           "align": "left"
          },
          "hovermode": "closest",
          "mapbox": {
           "style": "light"
          },
          "paper_bgcolor": "white",
          "plot_bgcolor": "#E5ECF6",
          "polar": {
           "angularaxis": {
            "gridcolor": "white",
            "linecolor": "white",
            "ticks": ""
           },
           "bgcolor": "#E5ECF6",
           "radialaxis": {
            "gridcolor": "white",
            "linecolor": "white",
            "ticks": ""
           }
          },
          "scene": {
           "xaxis": {
            "backgroundcolor": "#E5ECF6",
            "gridcolor": "white",
            "gridwidth": 2,
            "linecolor": "white",
            "showbackground": true,
            "ticks": "",
            "zerolinecolor": "white"
           },
           "yaxis": {
            "backgroundcolor": "#E5ECF6",
            "gridcolor": "white",
            "gridwidth": 2,
            "linecolor": "white",
            "showbackground": true,
            "ticks": "",
            "zerolinecolor": "white"
           },
           "zaxis": {
            "backgroundcolor": "#E5ECF6",
            "gridcolor": "white",
            "gridwidth": 2,
            "linecolor": "white",
            "showbackground": true,
            "ticks": "",
            "zerolinecolor": "white"
           }
          },
          "shapedefaults": {
           "line": {
            "color": "#2a3f5f"
           }
          },
          "ternary": {
           "aaxis": {
            "gridcolor": "white",
            "linecolor": "white",
            "ticks": ""
           },
           "baxis": {
            "gridcolor": "white",
            "linecolor": "white",
            "ticks": ""
           },
           "bgcolor": "#E5ECF6",
           "caxis": {
            "gridcolor": "white",
            "linecolor": "white",
            "ticks": ""
           }
          },
          "title": {
           "x": 0.05
          },
          "xaxis": {
           "automargin": true,
           "gridcolor": "white",
           "linecolor": "white",
           "ticks": "",
           "title": {
            "standoff": 15
           },
           "zerolinecolor": "white",
           "zerolinewidth": 2
          },
          "yaxis": {
           "automargin": true,
           "gridcolor": "white",
           "linecolor": "white",
           "ticks": "",
           "title": {
            "standoff": 15
           },
           "zerolinecolor": "white",
           "zerolinewidth": 2
          }
         }
        },
        "title": {
         "text": "Distribution of \"degree_happy\" by Department"
        }
       }
      }
     },
     "metadata": {},
     "output_type": "display_data"
    }
   ],
   "source": [
    "# Create a pie chart for degree_happy with faceting on department\n",
    "df_pie = df\n",
    "fig = px.pie(\n",
    "    df_pie, \n",
    "    names='degree_happy',\n",
    "    title='Distribution of \"degree_happy\" by Department',\n",
    "    facet_col='department',\n",
    "    color_discrete_sequence=['skyblue', 'orange']\n",
    ")\n",
    "# Show the plot\n",
    "fig.show()"
   ]
  },
  {
   "cell_type": "markdown",
   "metadata": {},
   "source": [
    "Do grouped barchart by department.  Bars will be happiness levels.  Could also do stacked.  Need more EDA."
   ]
  },
  {
   "cell_type": "code",
   "execution_count": 16,
   "metadata": {},
   "outputs": [
    {
     "data": {
      "application/vnd.plotly.v1+json": {
       "config": {
        "plotlyServerURL": "https://plot.ly"
       },
       "data": [
        {
         "branchvalues": "total",
         "domain": {
          "x": [
           0,
           1
          ],
          "y": [
           0,
           1
          ]
         },
         "hovertemplate": "labels=%{label}<br>count=%{value}<br>parent=%{parent}<br>id=%{id}<extra></extra>",
         "ids": [
          "Degree: Unhappy/Stress: Awful/Finances: Awful",
          "Degree: Happy/Stress: Awful/Finances: Awful",
          "Degree: Unhappy/Stress: Bad/Finances: Awful",
          "Degree: Happy/Stress: Bad/Finances: Awful",
          "Degree: Unhappy/Stress: Good/Finances: Awful",
          "Degree: Happy/Stress: Good/Finances: Awful",
          "Degree: Unhappy/Stress: Fabulous/Finances: Awful",
          "Degree: Happy/Stress: Fabulous/Finances: Awful",
          "Degree: Unhappy/Stress: Awful/Finances: Bad",
          "Degree: Happy/Stress: Awful/Finances: Bad",
          "Degree: Unhappy/Stress: Bad/Finances: Bad",
          "Degree: Happy/Stress: Bad/Finances: Bad",
          "Degree: Unhappy/Stress: Good/Finances: Bad",
          "Degree: Happy/Stress: Good/Finances: Bad",
          "Degree: Unhappy/Stress: Fabulous/Finances: Bad",
          "Degree: Happy/Stress: Fabulous/Finances: Bad",
          "Degree: Unhappy/Stress: Awful/Finances: Good",
          "Degree: Happy/Stress: Awful/Finances: Good",
          "Degree: Unhappy/Stress: Bad/Finances: Good",
          "Degree: Happy/Stress: Bad/Finances: Good",
          "Degree: Unhappy/Stress: Good/Finances: Good",
          "Degree: Happy/Stress: Good/Finances: Good",
          "Degree: Unhappy/Stress: Fabulous/Finances: Good",
          "Degree: Happy/Stress: Fabulous/Finances: Good",
          "Degree: Unhappy/Stress: Awful/Finances: Fabulous",
          "Degree: Happy/Stress: Awful/Finances: Fabulous",
          "Degree: Unhappy/Stress: Bad/Finances: Fabulous",
          "Degree: Happy/Stress: Bad/Finances: Fabulous",
          "Degree: Unhappy/Stress: Good/Finances: Fabulous",
          "Degree: Happy/Stress: Good/Finances: Fabulous",
          "Degree: Unhappy/Stress: Fabulous/Finances: Fabulous",
          "Degree: Happy/Stress: Fabulous/Finances: Fabulous",
          "Degree: Unhappy/Stress: Awful",
          "Degree: Happy/Stress: Awful",
          "Degree: Unhappy/Stress: Bad",
          "Degree: Happy/Stress: Bad",
          "Degree: Unhappy/Stress: Good",
          "Degree: Happy/Stress: Good",
          "Degree: Unhappy/Stress: Fabulous",
          "Degree: Happy/Stress: Fabulous",
          "Degree: Unhappy",
          "Degree: Happy"
         ],
         "labels": [
          "Finances: Awful",
          "Finances: Awful",
          "Finances: Awful",
          "Finances: Awful",
          "Finances: Awful",
          "Finances: Awful",
          "Finances: Awful",
          "Finances: Awful",
          "Finances: Bad",
          "Finances: Bad",
          "Finances: Bad",
          "Finances: Bad",
          "Finances: Bad",
          "Finances: Bad",
          "Finances: Bad",
          "Finances: Bad",
          "Finances: Good",
          "Finances: Good",
          "Finances: Good",
          "Finances: Good",
          "Finances: Good",
          "Finances: Good",
          "Finances: Good",
          "Finances: Good",
          "Finances: Fabulous",
          "Finances: Fabulous",
          "Finances: Fabulous",
          "Finances: Fabulous",
          "Finances: Fabulous",
          "Finances: Fabulous",
          "Finances: Fabulous",
          "Finances: Fabulous",
          "Stress: Awful",
          "Stress: Awful",
          "Stress: Bad",
          "Stress: Bad",
          "Stress: Good",
          "Stress: Good",
          "Stress: Fabulous",
          "Stress: Fabulous",
          "Degree: Unhappy",
          "Degree: Happy"
         ],
         "name": "",
         "parents": [
          "Degree: Unhappy/Stress: Awful",
          "Degree: Happy/Stress: Awful",
          "Degree: Unhappy/Stress: Bad",
          "Degree: Happy/Stress: Bad",
          "Degree: Unhappy/Stress: Good",
          "Degree: Happy/Stress: Good",
          "Degree: Unhappy/Stress: Fabulous",
          "Degree: Happy/Stress: Fabulous",
          "Degree: Unhappy/Stress: Awful",
          "Degree: Happy/Stress: Awful",
          "Degree: Unhappy/Stress: Bad",
          "Degree: Happy/Stress: Bad",
          "Degree: Unhappy/Stress: Good",
          "Degree: Happy/Stress: Good",
          "Degree: Unhappy/Stress: Fabulous",
          "Degree: Happy/Stress: Fabulous",
          "Degree: Unhappy/Stress: Awful",
          "Degree: Happy/Stress: Awful",
          "Degree: Unhappy/Stress: Bad",
          "Degree: Happy/Stress: Bad",
          "Degree: Unhappy/Stress: Good",
          "Degree: Happy/Stress: Good",
          "Degree: Unhappy/Stress: Fabulous",
          "Degree: Happy/Stress: Fabulous",
          "Degree: Unhappy/Stress: Awful",
          "Degree: Happy/Stress: Awful",
          "Degree: Unhappy/Stress: Bad",
          "Degree: Happy/Stress: Bad",
          "Degree: Unhappy/Stress: Good",
          "Degree: Happy/Stress: Good",
          "Degree: Unhappy/Stress: Fabulous",
          "Degree: Happy/Stress: Fabulous",
          "Degree: Unhappy",
          "Degree: Happy",
          "Degree: Unhappy",
          "Degree: Happy",
          "Degree: Unhappy",
          "Degree: Happy",
          "Degree: Unhappy",
          "Degree: Happy",
          "",
          ""
         ],
         "type": "sunburst",
         "values": [
          1,
          3,
          2,
          1,
          1,
          5,
          0,
          1,
          1,
          7,
          3,
          30,
          5,
          38,
          0,
          4,
          0,
          7,
          2,
          29,
          3,
          83,
          2,
          3,
          0,
          0,
          0,
          1,
          0,
          2,
          0,
          1,
          2,
          17,
          7,
          61,
          9,
          128,
          2,
          9,
          20,
          215
         ]
        }
       ],
       "layout": {
        "legend": {
         "tracegroupgap": 0
        },
        "margin": {
         "b": 0,
         "l": 0,
         "r": 0,
         "t": 0
        },
        "template": {
         "data": {
          "bar": [
           {
            "error_x": {
             "color": "#2a3f5f"
            },
            "error_y": {
             "color": "#2a3f5f"
            },
            "marker": {
             "line": {
              "color": "#E5ECF6",
              "width": 0.5
             },
             "pattern": {
              "fillmode": "overlay",
              "size": 10,
              "solidity": 0.2
             }
            },
            "type": "bar"
           }
          ],
          "barpolar": [
           {
            "marker": {
             "line": {
              "color": "#E5ECF6",
              "width": 0.5
             },
             "pattern": {
              "fillmode": "overlay",
              "size": 10,
              "solidity": 0.2
             }
            },
            "type": "barpolar"
           }
          ],
          "carpet": [
           {
            "aaxis": {
             "endlinecolor": "#2a3f5f",
             "gridcolor": "white",
             "linecolor": "white",
             "minorgridcolor": "white",
             "startlinecolor": "#2a3f5f"
            },
            "baxis": {
             "endlinecolor": "#2a3f5f",
             "gridcolor": "white",
             "linecolor": "white",
             "minorgridcolor": "white",
             "startlinecolor": "#2a3f5f"
            },
            "type": "carpet"
           }
          ],
          "choropleth": [
           {
            "colorbar": {
             "outlinewidth": 0,
             "ticks": ""
            },
            "type": "choropleth"
           }
          ],
          "contour": [
           {
            "colorbar": {
             "outlinewidth": 0,
             "ticks": ""
            },
            "colorscale": [
             [
              0,
              "#0d0887"
             ],
             [
              0.1111111111111111,
              "#46039f"
             ],
             [
              0.2222222222222222,
              "#7201a8"
             ],
             [
              0.3333333333333333,
              "#9c179e"
             ],
             [
              0.4444444444444444,
              "#bd3786"
             ],
             [
              0.5555555555555556,
              "#d8576b"
             ],
             [
              0.6666666666666666,
              "#ed7953"
             ],
             [
              0.7777777777777778,
              "#fb9f3a"
             ],
             [
              0.8888888888888888,
              "#fdca26"
             ],
             [
              1,
              "#f0f921"
             ]
            ],
            "type": "contour"
           }
          ],
          "contourcarpet": [
           {
            "colorbar": {
             "outlinewidth": 0,
             "ticks": ""
            },
            "type": "contourcarpet"
           }
          ],
          "heatmap": [
           {
            "colorbar": {
             "outlinewidth": 0,
             "ticks": ""
            },
            "colorscale": [
             [
              0,
              "#0d0887"
             ],
             [
              0.1111111111111111,
              "#46039f"
             ],
             [
              0.2222222222222222,
              "#7201a8"
             ],
             [
              0.3333333333333333,
              "#9c179e"
             ],
             [
              0.4444444444444444,
              "#bd3786"
             ],
             [
              0.5555555555555556,
              "#d8576b"
             ],
             [
              0.6666666666666666,
              "#ed7953"
             ],
             [
              0.7777777777777778,
              "#fb9f3a"
             ],
             [
              0.8888888888888888,
              "#fdca26"
             ],
             [
              1,
              "#f0f921"
             ]
            ],
            "type": "heatmap"
           }
          ],
          "heatmapgl": [
           {
            "colorbar": {
             "outlinewidth": 0,
             "ticks": ""
            },
            "colorscale": [
             [
              0,
              "#0d0887"
             ],
             [
              0.1111111111111111,
              "#46039f"
             ],
             [
              0.2222222222222222,
              "#7201a8"
             ],
             [
              0.3333333333333333,
              "#9c179e"
             ],
             [
              0.4444444444444444,
              "#bd3786"
             ],
             [
              0.5555555555555556,
              "#d8576b"
             ],
             [
              0.6666666666666666,
              "#ed7953"
             ],
             [
              0.7777777777777778,
              "#fb9f3a"
             ],
             [
              0.8888888888888888,
              "#fdca26"
             ],
             [
              1,
              "#f0f921"
             ]
            ],
            "type": "heatmapgl"
           }
          ],
          "histogram": [
           {
            "marker": {
             "pattern": {
              "fillmode": "overlay",
              "size": 10,
              "solidity": 0.2
             }
            },
            "type": "histogram"
           }
          ],
          "histogram2d": [
           {
            "colorbar": {
             "outlinewidth": 0,
             "ticks": ""
            },
            "colorscale": [
             [
              0,
              "#0d0887"
             ],
             [
              0.1111111111111111,
              "#46039f"
             ],
             [
              0.2222222222222222,
              "#7201a8"
             ],
             [
              0.3333333333333333,
              "#9c179e"
             ],
             [
              0.4444444444444444,
              "#bd3786"
             ],
             [
              0.5555555555555556,
              "#d8576b"
             ],
             [
              0.6666666666666666,
              "#ed7953"
             ],
             [
              0.7777777777777778,
              "#fb9f3a"
             ],
             [
              0.8888888888888888,
              "#fdca26"
             ],
             [
              1,
              "#f0f921"
             ]
            ],
            "type": "histogram2d"
           }
          ],
          "histogram2dcontour": [
           {
            "colorbar": {
             "outlinewidth": 0,
             "ticks": ""
            },
            "colorscale": [
             [
              0,
              "#0d0887"
             ],
             [
              0.1111111111111111,
              "#46039f"
             ],
             [
              0.2222222222222222,
              "#7201a8"
             ],
             [
              0.3333333333333333,
              "#9c179e"
             ],
             [
              0.4444444444444444,
              "#bd3786"
             ],
             [
              0.5555555555555556,
              "#d8576b"
             ],
             [
              0.6666666666666666,
              "#ed7953"
             ],
             [
              0.7777777777777778,
              "#fb9f3a"
             ],
             [
              0.8888888888888888,
              "#fdca26"
             ],
             [
              1,
              "#f0f921"
             ]
            ],
            "type": "histogram2dcontour"
           }
          ],
          "mesh3d": [
           {
            "colorbar": {
             "outlinewidth": 0,
             "ticks": ""
            },
            "type": "mesh3d"
           }
          ],
          "parcoords": [
           {
            "line": {
             "colorbar": {
              "outlinewidth": 0,
              "ticks": ""
             }
            },
            "type": "parcoords"
           }
          ],
          "pie": [
           {
            "automargin": true,
            "type": "pie"
           }
          ],
          "scatter": [
           {
            "fillpattern": {
             "fillmode": "overlay",
             "size": 10,
             "solidity": 0.2
            },
            "type": "scatter"
           }
          ],
          "scatter3d": [
           {
            "line": {
             "colorbar": {
              "outlinewidth": 0,
              "ticks": ""
             }
            },
            "marker": {
             "colorbar": {
              "outlinewidth": 0,
              "ticks": ""
             }
            },
            "type": "scatter3d"
           }
          ],
          "scattercarpet": [
           {
            "marker": {
             "colorbar": {
              "outlinewidth": 0,
              "ticks": ""
             }
            },
            "type": "scattercarpet"
           }
          ],
          "scattergeo": [
           {
            "marker": {
             "colorbar": {
              "outlinewidth": 0,
              "ticks": ""
             }
            },
            "type": "scattergeo"
           }
          ],
          "scattergl": [
           {
            "marker": {
             "colorbar": {
              "outlinewidth": 0,
              "ticks": ""
             }
            },
            "type": "scattergl"
           }
          ],
          "scattermapbox": [
           {
            "marker": {
             "colorbar": {
              "outlinewidth": 0,
              "ticks": ""
             }
            },
            "type": "scattermapbox"
           }
          ],
          "scatterpolar": [
           {
            "marker": {
             "colorbar": {
              "outlinewidth": 0,
              "ticks": ""
             }
            },
            "type": "scatterpolar"
           }
          ],
          "scatterpolargl": [
           {
            "marker": {
             "colorbar": {
              "outlinewidth": 0,
              "ticks": ""
             }
            },
            "type": "scatterpolargl"
           }
          ],
          "scatterternary": [
           {
            "marker": {
             "colorbar": {
              "outlinewidth": 0,
              "ticks": ""
             }
            },
            "type": "scatterternary"
           }
          ],
          "surface": [
           {
            "colorbar": {
             "outlinewidth": 0,
             "ticks": ""
            },
            "colorscale": [
             [
              0,
              "#0d0887"
             ],
             [
              0.1111111111111111,
              "#46039f"
             ],
             [
              0.2222222222222222,
              "#7201a8"
             ],
             [
              0.3333333333333333,
              "#9c179e"
             ],
             [
              0.4444444444444444,
              "#bd3786"
             ],
             [
              0.5555555555555556,
              "#d8576b"
             ],
             [
              0.6666666666666666,
              "#ed7953"
             ],
             [
              0.7777777777777778,
              "#fb9f3a"
             ],
             [
              0.8888888888888888,
              "#fdca26"
             ],
             [
              1,
              "#f0f921"
             ]
            ],
            "type": "surface"
           }
          ],
          "table": [
           {
            "cells": {
             "fill": {
              "color": "#EBF0F8"
             },
             "line": {
              "color": "white"
             }
            },
            "header": {
             "fill": {
              "color": "#C8D4E3"
             },
             "line": {
              "color": "white"
             }
            },
            "type": "table"
           }
          ]
         },
         "layout": {
          "annotationdefaults": {
           "arrowcolor": "#2a3f5f",
           "arrowhead": 0,
           "arrowwidth": 1
          },
          "autotypenumbers": "strict",
          "coloraxis": {
           "colorbar": {
            "outlinewidth": 0,
            "ticks": ""
           }
          },
          "colorscale": {
           "diverging": [
            [
             0,
             "#8e0152"
            ],
            [
             0.1,
             "#c51b7d"
            ],
            [
             0.2,
             "#de77ae"
            ],
            [
             0.3,
             "#f1b6da"
            ],
            [
             0.4,
             "#fde0ef"
            ],
            [
             0.5,
             "#f7f7f7"
            ],
            [
             0.6,
             "#e6f5d0"
            ],
            [
             0.7,
             "#b8e186"
            ],
            [
             0.8,
             "#7fbc41"
            ],
            [
             0.9,
             "#4d9221"
            ],
            [
             1,
             "#276419"
            ]
           ],
           "sequential": [
            [
             0,
             "#0d0887"
            ],
            [
             0.1111111111111111,
             "#46039f"
            ],
            [
             0.2222222222222222,
             "#7201a8"
            ],
            [
             0.3333333333333333,
             "#9c179e"
            ],
            [
             0.4444444444444444,
             "#bd3786"
            ],
            [
             0.5555555555555556,
             "#d8576b"
            ],
            [
             0.6666666666666666,
             "#ed7953"
            ],
            [
             0.7777777777777778,
             "#fb9f3a"
            ],
            [
             0.8888888888888888,
             "#fdca26"
            ],
            [
             1,
             "#f0f921"
            ]
           ],
           "sequentialminus": [
            [
             0,
             "#0d0887"
            ],
            [
             0.1111111111111111,
             "#46039f"
            ],
            [
             0.2222222222222222,
             "#7201a8"
            ],
            [
             0.3333333333333333,
             "#9c179e"
            ],
            [
             0.4444444444444444,
             "#bd3786"
            ],
            [
             0.5555555555555556,
             "#d8576b"
            ],
            [
             0.6666666666666666,
             "#ed7953"
            ],
            [
             0.7777777777777778,
             "#fb9f3a"
            ],
            [
             0.8888888888888888,
             "#fdca26"
            ],
            [
             1,
             "#f0f921"
            ]
           ]
          },
          "colorway": [
           "#636efa",
           "#EF553B",
           "#00cc96",
           "#ab63fa",
           "#FFA15A",
           "#19d3f3",
           "#FF6692",
           "#B6E880",
           "#FF97FF",
           "#FECB52"
          ],
          "font": {
           "color": "#2a3f5f"
          },
          "geo": {
           "bgcolor": "white",
           "lakecolor": "white",
           "landcolor": "#E5ECF6",
           "showlakes": true,
           "showland": true,
           "subunitcolor": "white"
          },
          "hoverlabel": {
           "align": "left"
          },
          "hovermode": "closest",
          "mapbox": {
           "style": "light"
          },
          "paper_bgcolor": "white",
          "plot_bgcolor": "#E5ECF6",
          "polar": {
           "angularaxis": {
            "gridcolor": "white",
            "linecolor": "white",
            "ticks": ""
           },
           "bgcolor": "#E5ECF6",
           "radialaxis": {
            "gridcolor": "white",
            "linecolor": "white",
            "ticks": ""
           }
          },
          "scene": {
           "xaxis": {
            "backgroundcolor": "#E5ECF6",
            "gridcolor": "white",
            "gridwidth": 2,
            "linecolor": "white",
            "showbackground": true,
            "ticks": "",
            "zerolinecolor": "white"
           },
           "yaxis": {
            "backgroundcolor": "#E5ECF6",
            "gridcolor": "white",
            "gridwidth": 2,
            "linecolor": "white",
            "showbackground": true,
            "ticks": "",
            "zerolinecolor": "white"
           },
           "zaxis": {
            "backgroundcolor": "#E5ECF6",
            "gridcolor": "white",
            "gridwidth": 2,
            "linecolor": "white",
            "showbackground": true,
            "ticks": "",
            "zerolinecolor": "white"
           }
          },
          "shapedefaults": {
           "line": {
            "color": "#2a3f5f"
           }
          },
          "ternary": {
           "aaxis": {
            "gridcolor": "white",
            "linecolor": "white",
            "ticks": ""
           },
           "baxis": {
            "gridcolor": "white",
            "linecolor": "white",
            "ticks": ""
           },
           "bgcolor": "#E5ECF6",
           "caxis": {
            "gridcolor": "white",
            "linecolor": "white",
            "ticks": ""
           }
          },
          "title": {
           "x": 0.05
          },
          "xaxis": {
           "automargin": true,
           "gridcolor": "white",
           "linecolor": "white",
           "ticks": "",
           "title": {
            "standoff": 15
           },
           "zerolinecolor": "white",
           "zerolinewidth": 2
          },
          "yaxis": {
           "automargin": true,
           "gridcolor": "white",
           "linecolor": "white",
           "ticks": "",
           "title": {
            "standoff": 15
           },
           "zerolinecolor": "white",
           "zerolinewidth": 2
          }
         }
        },
        "title": {
         "text": "Degree Satisfaction, Stress, and Financial Status by Department"
        }
       }
      }
     },
     "metadata": {},
     "output_type": "display_data"
    }
   ],
   "source": [
    "# Sentiment sunburst\n",
    "\n",
    "# Create a copy to avoid changing the original data\n",
    "df_sunburst = df\n",
    "\n",
    "# Map the boolean values and other categorical variables to more descriptive strings\n",
    "df_sunburst['degree_happy'] = df['degree_happy'].map({\n",
    "    'Yes': 'Degree: Happy', \n",
    "    'No': 'Degree: Unhappy'\n",
    "})\n",
    "\n",
    "# Mapping for stress_status and financial_status\n",
    "df_sunburst['stress_status'] = df['stress_status'].map({\n",
    "    'Good': 'Stress: Good',\n",
    "    'Awful': 'Stress: Awful',\n",
    "    'Bad': 'Stress: Bad',\n",
    "    'Fabulous': 'Stress: Fabulous'\n",
    "})\n",
    "\n",
    "df_sunburst['financial_status'] = df['financial_status'].map({\n",
    "    'Good': 'Finances: Good',\n",
    "    'Awful': 'Finances: Awful',\n",
    "    'Bad': 'Finances: Bad',\n",
    "    'Fabulous': 'Finances: Fabulous'\n",
    "})\n",
    "\n",
    "# Create a sunburst plot with Plotly Express\n",
    "fig = px.sunburst(\n",
    "    df_sunburst, \n",
    "    path=['degree_happy', 'stress_status', 'financial_status'], \n",
    "    title=\"Degree Satisfaction, Stress, and Financial Status by Department\"\n",
    ")\n",
    "\n",
    "# Update layout for better readability\n",
    "fig.update_layout(\n",
    "    margin=dict(t=0, b=0, r=0, l=0),\n",
    ")\n",
    "\n",
    "# Show the plot\n",
    "fig.show()\n",
    "\n",
    "#path=['department', 'degree_happy', 'stress_status', 'financial_status']"
   ]
  },
  {
   "cell_type": "markdown",
   "metadata": {},
   "source": [
    "## Hobbies and Part-time Jobs:\n",
    ">  Visualize the percentage of candidates with a 'part-time job' based on their hobbies\n"
   ]
  },
  {
   "cell_type": "markdown",
   "metadata": {},
   "source": [
    "## Financial Status and Part-time Jobs:\n",
    ">  Display the distribution of 'Financial Status' and the percentage of candidates with a 'part-time job'\n"
   ]
  },
  {
   "cell_type": "markdown",
   "metadata": {},
   "source": [
    "## Degree Satisfaction:\n",
    ">  Show the percentage of candidates who like their degree and are willing to pursue a career based on their degree\n"
   ]
  },
  {
   "cell_type": "markdown",
   "metadata": {},
   "source": [
    "## Department-wise Analysis:\n",
    ">  Compare the average '10th Mark', '12th Mark', and 'college mark' for different departments"
   ]
  },
  {
   "cell_type": "markdown",
   "metadata": {},
   "source": [
    "## *BONUS\n",
    "> **Supplementing** the provided prompts, include any **additional charts** or **visualizations** that shed light on their *inclination to pursue a career aligned with their degree* and their *level of satisfaction with the chosen degree*"
   ]
  },
  {
   "cell_type": "code",
   "execution_count": 17,
   "metadata": {},
   "outputs": [],
   "source": [
    "#df.to_parquet('../data/behavior.parquet')\n",
    "\n",
    "#df.to_csv('../data/behavior.csv', index=False)"
   ]
  },
  {
   "cell_type": "code",
   "execution_count": null,
   "metadata": {},
   "outputs": [],
   "source": [
    "## Keep to the basics.  Funky stuff can be fun, but stick with basics.\n",
    "############# use bubble plot if there's time for funk\n",
    "## Get data in good shape."
   ]
  }
 ],
 "metadata": {
  "kernelspec": {
   "display_name": "base",
   "language": "python",
   "name": "python3"
  },
  "language_info": {
   "codemirror_mode": {
    "name": "ipython",
    "version": 3
   },
   "file_extension": ".py",
   "mimetype": "text/x-python",
   "name": "python",
   "nbconvert_exporter": "python",
   "pygments_lexer": "ipython3",
   "version": "3.9.16"
  }
 },
 "nbformat": 4,
 "nbformat_minor": 2
}
